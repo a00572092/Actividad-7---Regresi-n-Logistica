{
  "nbformat": 4,
  "nbformat_minor": 0,
  "metadata": {
    "colab": {
      "provenance": [],
      "authorship_tag": "ABX9TyMr+pv0NzbgEOrIGW0Gm9TC",
      "include_colab_link": true
    },
    "kernelspec": {
      "name": "python3",
      "display_name": "Python 3"
    },
    "language_info": {
      "name": "python"
    }
  },
  "cells": [
    {
      "cell_type": "markdown",
      "metadata": {
        "id": "view-in-github",
        "colab_type": "text"
      },
      "source": [
        "<a href=\"https://colab.research.google.com/github/a00572092/Actividad-7---Regresi-n-Logistica/blob/main/Actividad7_A00572092.ipynb\" target=\"_parent\"><img src=\"https://colab.research.google.com/assets/colab-badge.svg\" alt=\"Open In Colab\"/></a>"
      ]
    },
    {
      "cell_type": "code",
      "execution_count": 226,
      "metadata": {
        "id": "BwpVGdUsg6-m"
      },
      "outputs": [],
      "source": [
        "#Importar librerías\n",
        "import numpy as np\n",
        "import pandas as pd\n",
        "from sklearn.linear_model import LogisticRegression\n",
        "import matplotlib.pyplot as plt\n",
        "import scipy.special as special\n",
        "from scipy.optimize import curve_fit\n",
        "import seaborn as sns\n",
        "from sklearn.metrics import r2_score\n",
        "from sklearn.model_selection import train_test_split\n",
        "from sklearn.metrics import confusion_matrix\n",
        "from sklearn.metrics import precision_score\n",
        "from sklearn.metrics import accuracy_score\n",
        "from sklearn.metrics import recall_score\n",
        "from sklearn.metrics import f1_score\n",
        "from sklearn.preprocessing import StandardScaler"
      ]
    },
    {
      "cell_type": "code",
      "source": [
        "df = pd.read_csv('cuentas_credicel.csv', encoding='ISO-8859-1')\n",
        "df"
      ],
      "metadata": {
        "colab": {
          "base_uri": "https://localhost:8080/",
          "height": 773
        },
        "id": "PS5J_2N95jhh",
        "outputId": "a8414726-938c-4ec1-a7ff-5c6f8ea398ed"
      },
      "execution_count": 227,
      "outputs": [
        {
          "output_type": "stream",
          "name": "stderr",
          "text": [
            "<ipython-input-227-db81fc32da0f>:1: DtypeWarning: Columns (30) have mixed types. Specify dtype option on import or set low_memory=False.\n",
            "  df = pd.read_csv('cuentas_credicel.csv', encoding='ISO-8859-1')\n"
          ]
        },
        {
          "output_type": "execute_result",
          "data": {
            "text/plain": [
              "       folio       tag  folio_solicitud           fecha     marca  \\\n",
              "0          3  HDNAWQ3A               30  12/11/21 19:00       ZTE   \n",
              "1          4  M418YNR4               33  12/11/21 19:15  MOTOROLA   \n",
              "2          5  SZ7V3NZT               37  13/11/21 14:13       ZTE   \n",
              "3          6  9I08UIQZ               38  13/11/21 15:45       ZTE   \n",
              "4          7  JMF4LKYU               44  13/11/21 16:10  MOTOROLA   \n",
              "...      ...       ...              ...             ...       ...   \n",
              "22730  22967  92KQVRIX            96502  18/04/23 18:45  Motorola   \n",
              "22731  22968  NWB2EA8J            96479  18/04/23 18:46  Motorola   \n",
              "22732  22969  VDTRJ2W6            96442  18/04/23 18:47   Samsung   \n",
              "22733  22970  PETLF56C            96536  18/04/23 18:49   Samsung   \n",
              "22734  22971  2CI4N2WS            96534  18/04/23 18:49   Samsung   \n",
              "\n",
              "                             modelo plazo  precio  enganche  descuento  ...  \\\n",
              "0                Blade A3 2020 RO B   26S  1949.0     780.0        0.0  ...   \n",
              "1      LTE XT2097-12 E7I POWER Azul   13S  2999.0    1050.0        0.0  ...   \n",
              "2                BLADE A3 2020 Gris   13S  1959.0     490.0        0.0  ...   \n",
              "3                BLADE A3 2020 Gris   13S  1959.0     490.0        0.0  ...   \n",
              "4                             G10 B   39S  4299.0    1075.0        0.0  ...   \n",
              "...                             ...   ...     ...       ...        ...  ...   \n",
              "22730                      Moto E13   26S  3349.0     297.0        0.0  ...   \n",
              "22731                     Moto E22i   26S  4100.0    1209.0        0.0  ...   \n",
              "22732                           A13   26S  4849.0    1152.0        0.0  ...   \n",
              "22733                        A53 5G   39S  9799.0    2799.0        0.0  ...   \n",
              "22734                        A22 5G   26S  5399.0    1086.0        0.0  ...   \n",
              "\n",
              "       porc_eng  limite_credito  semana_actual  cp_cliente edad_cliente  \\\n",
              "0         40.02            5000             26         NaN         23.0   \n",
              "1         35.01            6000             13         NaN         60.0   \n",
              "2         25.01               0             74         NaN         58.0   \n",
              "3         25.01            7000             13         NaN         42.0   \n",
              "4         25.01            7000             74         NaN         33.0   \n",
              "...         ...             ...            ...         ...          ...   \n",
              "22730      8.87           10000              0       97880         22.0   \n",
              "22731     29.49            5000              0       37295         27.0   \n",
              "22732     23.76            4750              0       20210         36.0   \n",
              "22733     28.56            7000              0       78434         53.0   \n",
              "22734     20.11            4750              0       43800         19.0   \n",
              "\n",
              "                        cd_cliente  edo_cliente                     cd_venta  \\\n",
              "0                                0            0                    Tantoyuca   \n",
              "1                          PUEBLA          PUE.   Heroica Puebla de Zaragoza   \n",
              "2                        TANTOYUCA         VER.                            0   \n",
              "3                      AMXTLAN PUE          NaN                     Zacatlan   \n",
              "4                       TANTOYUCA          VER.                    Tantoyuca   \n",
              "...                            ...          ...                          ...   \n",
              "22730                    OXKUTZCAB          YUC                    Oxkutzcab   \n",
              "22731                         LEON          GTO                         Leon   \n",
              "22732               AGUASCALIENTES          AGS               Aguascalientes   \n",
              "22733  SOLEDAD DE GRACIANO SANCHEZ          SLP  Soledad De Graciano Sanchez   \n",
              "22734                     TIZAYUCA          HGO            San Jose Del Cabo   \n",
              "\n",
              "                 edo_venta                curp  \n",
              "0                 Veracruz  AEVM980413MVZNDR02  \n",
              "1                   Puebla  ZALC610119MPLPRR07  \n",
              "2                        0                   0  \n",
              "3                   Puebla  SAMJ790115MPLNRS02  \n",
              "4                 Veracruz  TEHF880707HVZRRR07  \n",
              "...                    ...                 ...  \n",
              "22730              Yucatan  PACT990804MYNCCH05  \n",
              "22731           Guanajuato  HEGB950620MGTRMN03  \n",
              "22732       Aguascalientes  GADF870205HASLZL07  \n",
              "22733      San Luis Potosi  DELJ700417HSPLRS03  \n",
              "22734  Baja California Sur  RASI030731HDFMRSA1  \n",
              "\n",
              "[22735 rows x 39 columns]"
            ],
            "text/html": [
              "\n",
              "  <div id=\"df-35bfb3a2-a6c3-4f24-912c-db94671853f5\" class=\"colab-df-container\">\n",
              "    <div>\n",
              "<style scoped>\n",
              "    .dataframe tbody tr th:only-of-type {\n",
              "        vertical-align: middle;\n",
              "    }\n",
              "\n",
              "    .dataframe tbody tr th {\n",
              "        vertical-align: top;\n",
              "    }\n",
              "\n",
              "    .dataframe thead th {\n",
              "        text-align: right;\n",
              "    }\n",
              "</style>\n",
              "<table border=\"1\" class=\"dataframe\">\n",
              "  <thead>\n",
              "    <tr style=\"text-align: right;\">\n",
              "      <th></th>\n",
              "      <th>folio</th>\n",
              "      <th>tag</th>\n",
              "      <th>folio_solicitud</th>\n",
              "      <th>fecha</th>\n",
              "      <th>marca</th>\n",
              "      <th>modelo</th>\n",
              "      <th>plazo</th>\n",
              "      <th>precio</th>\n",
              "      <th>enganche</th>\n",
              "      <th>descuento</th>\n",
              "      <th>...</th>\n",
              "      <th>porc_eng</th>\n",
              "      <th>limite_credito</th>\n",
              "      <th>semana_actual</th>\n",
              "      <th>cp_cliente</th>\n",
              "      <th>edad_cliente</th>\n",
              "      <th>cd_cliente</th>\n",
              "      <th>edo_cliente</th>\n",
              "      <th>cd_venta</th>\n",
              "      <th>edo_venta</th>\n",
              "      <th>curp</th>\n",
              "    </tr>\n",
              "  </thead>\n",
              "  <tbody>\n",
              "    <tr>\n",
              "      <th>0</th>\n",
              "      <td>3</td>\n",
              "      <td>HDNAWQ3A</td>\n",
              "      <td>30</td>\n",
              "      <td>12/11/21 19:00</td>\n",
              "      <td>ZTE</td>\n",
              "      <td>Blade A3 2020 RO B</td>\n",
              "      <td>26S</td>\n",
              "      <td>1949.0</td>\n",
              "      <td>780.0</td>\n",
              "      <td>0.0</td>\n",
              "      <td>...</td>\n",
              "      <td>40.02</td>\n",
              "      <td>5000</td>\n",
              "      <td>26</td>\n",
              "      <td>NaN</td>\n",
              "      <td>23.0</td>\n",
              "      <td>0</td>\n",
              "      <td>0</td>\n",
              "      <td>Tantoyuca</td>\n",
              "      <td>Veracruz</td>\n",
              "      <td>AEVM980413MVZNDR02</td>\n",
              "    </tr>\n",
              "    <tr>\n",
              "      <th>1</th>\n",
              "      <td>4</td>\n",
              "      <td>M418YNR4</td>\n",
              "      <td>33</td>\n",
              "      <td>12/11/21 19:15</td>\n",
              "      <td>MOTOROLA</td>\n",
              "      <td>LTE XT2097-12 E7I POWER Azul</td>\n",
              "      <td>13S</td>\n",
              "      <td>2999.0</td>\n",
              "      <td>1050.0</td>\n",
              "      <td>0.0</td>\n",
              "      <td>...</td>\n",
              "      <td>35.01</td>\n",
              "      <td>6000</td>\n",
              "      <td>13</td>\n",
              "      <td>NaN</td>\n",
              "      <td>60.0</td>\n",
              "      <td>PUEBLA</td>\n",
              "      <td>PUE.</td>\n",
              "      <td>Heroica Puebla de Zaragoza</td>\n",
              "      <td>Puebla</td>\n",
              "      <td>ZALC610119MPLPRR07</td>\n",
              "    </tr>\n",
              "    <tr>\n",
              "      <th>2</th>\n",
              "      <td>5</td>\n",
              "      <td>SZ7V3NZT</td>\n",
              "      <td>37</td>\n",
              "      <td>13/11/21 14:13</td>\n",
              "      <td>ZTE</td>\n",
              "      <td>BLADE A3 2020 Gris</td>\n",
              "      <td>13S</td>\n",
              "      <td>1959.0</td>\n",
              "      <td>490.0</td>\n",
              "      <td>0.0</td>\n",
              "      <td>...</td>\n",
              "      <td>25.01</td>\n",
              "      <td>0</td>\n",
              "      <td>74</td>\n",
              "      <td>NaN</td>\n",
              "      <td>58.0</td>\n",
              "      <td>TANTOYUCA</td>\n",
              "      <td>VER.</td>\n",
              "      <td>0</td>\n",
              "      <td>0</td>\n",
              "      <td>0</td>\n",
              "    </tr>\n",
              "    <tr>\n",
              "      <th>3</th>\n",
              "      <td>6</td>\n",
              "      <td>9I08UIQZ</td>\n",
              "      <td>38</td>\n",
              "      <td>13/11/21 15:45</td>\n",
              "      <td>ZTE</td>\n",
              "      <td>BLADE A3 2020 Gris</td>\n",
              "      <td>13S</td>\n",
              "      <td>1959.0</td>\n",
              "      <td>490.0</td>\n",
              "      <td>0.0</td>\n",
              "      <td>...</td>\n",
              "      <td>25.01</td>\n",
              "      <td>7000</td>\n",
              "      <td>13</td>\n",
              "      <td>NaN</td>\n",
              "      <td>42.0</td>\n",
              "      <td>AMXTLAN PUE</td>\n",
              "      <td>NaN</td>\n",
              "      <td>Zacatlan</td>\n",
              "      <td>Puebla</td>\n",
              "      <td>SAMJ790115MPLNRS02</td>\n",
              "    </tr>\n",
              "    <tr>\n",
              "      <th>4</th>\n",
              "      <td>7</td>\n",
              "      <td>JMF4LKYU</td>\n",
              "      <td>44</td>\n",
              "      <td>13/11/21 16:10</td>\n",
              "      <td>MOTOROLA</td>\n",
              "      <td>G10 B</td>\n",
              "      <td>39S</td>\n",
              "      <td>4299.0</td>\n",
              "      <td>1075.0</td>\n",
              "      <td>0.0</td>\n",
              "      <td>...</td>\n",
              "      <td>25.01</td>\n",
              "      <td>7000</td>\n",
              "      <td>74</td>\n",
              "      <td>NaN</td>\n",
              "      <td>33.0</td>\n",
              "      <td>TANTOYUCA</td>\n",
              "      <td>VER.</td>\n",
              "      <td>Tantoyuca</td>\n",
              "      <td>Veracruz</td>\n",
              "      <td>TEHF880707HVZRRR07</td>\n",
              "    </tr>\n",
              "    <tr>\n",
              "      <th>...</th>\n",
              "      <td>...</td>\n",
              "      <td>...</td>\n",
              "      <td>...</td>\n",
              "      <td>...</td>\n",
              "      <td>...</td>\n",
              "      <td>...</td>\n",
              "      <td>...</td>\n",
              "      <td>...</td>\n",
              "      <td>...</td>\n",
              "      <td>...</td>\n",
              "      <td>...</td>\n",
              "      <td>...</td>\n",
              "      <td>...</td>\n",
              "      <td>...</td>\n",
              "      <td>...</td>\n",
              "      <td>...</td>\n",
              "      <td>...</td>\n",
              "      <td>...</td>\n",
              "      <td>...</td>\n",
              "      <td>...</td>\n",
              "      <td>...</td>\n",
              "    </tr>\n",
              "    <tr>\n",
              "      <th>22730</th>\n",
              "      <td>22967</td>\n",
              "      <td>92KQVRIX</td>\n",
              "      <td>96502</td>\n",
              "      <td>18/04/23 18:45</td>\n",
              "      <td>Motorola</td>\n",
              "      <td>Moto E13</td>\n",
              "      <td>26S</td>\n",
              "      <td>3349.0</td>\n",
              "      <td>297.0</td>\n",
              "      <td>0.0</td>\n",
              "      <td>...</td>\n",
              "      <td>8.87</td>\n",
              "      <td>10000</td>\n",
              "      <td>0</td>\n",
              "      <td>97880</td>\n",
              "      <td>22.0</td>\n",
              "      <td>OXKUTZCAB</td>\n",
              "      <td>YUC</td>\n",
              "      <td>Oxkutzcab</td>\n",
              "      <td>Yucatan</td>\n",
              "      <td>PACT990804MYNCCH05</td>\n",
              "    </tr>\n",
              "    <tr>\n",
              "      <th>22731</th>\n",
              "      <td>22968</td>\n",
              "      <td>NWB2EA8J</td>\n",
              "      <td>96479</td>\n",
              "      <td>18/04/23 18:46</td>\n",
              "      <td>Motorola</td>\n",
              "      <td>Moto E22i</td>\n",
              "      <td>26S</td>\n",
              "      <td>4100.0</td>\n",
              "      <td>1209.0</td>\n",
              "      <td>0.0</td>\n",
              "      <td>...</td>\n",
              "      <td>29.49</td>\n",
              "      <td>5000</td>\n",
              "      <td>0</td>\n",
              "      <td>37295</td>\n",
              "      <td>27.0</td>\n",
              "      <td>LEON</td>\n",
              "      <td>GTO</td>\n",
              "      <td>Leon</td>\n",
              "      <td>Guanajuato</td>\n",
              "      <td>HEGB950620MGTRMN03</td>\n",
              "    </tr>\n",
              "    <tr>\n",
              "      <th>22732</th>\n",
              "      <td>22969</td>\n",
              "      <td>VDTRJ2W6</td>\n",
              "      <td>96442</td>\n",
              "      <td>18/04/23 18:47</td>\n",
              "      <td>Samsung</td>\n",
              "      <td>A13</td>\n",
              "      <td>26S</td>\n",
              "      <td>4849.0</td>\n",
              "      <td>1152.0</td>\n",
              "      <td>0.0</td>\n",
              "      <td>...</td>\n",
              "      <td>23.76</td>\n",
              "      <td>4750</td>\n",
              "      <td>0</td>\n",
              "      <td>20210</td>\n",
              "      <td>36.0</td>\n",
              "      <td>AGUASCALIENTES</td>\n",
              "      <td>AGS</td>\n",
              "      <td>Aguascalientes</td>\n",
              "      <td>Aguascalientes</td>\n",
              "      <td>GADF870205HASLZL07</td>\n",
              "    </tr>\n",
              "    <tr>\n",
              "      <th>22733</th>\n",
              "      <td>22970</td>\n",
              "      <td>PETLF56C</td>\n",
              "      <td>96536</td>\n",
              "      <td>18/04/23 18:49</td>\n",
              "      <td>Samsung</td>\n",
              "      <td>A53 5G</td>\n",
              "      <td>39S</td>\n",
              "      <td>9799.0</td>\n",
              "      <td>2799.0</td>\n",
              "      <td>0.0</td>\n",
              "      <td>...</td>\n",
              "      <td>28.56</td>\n",
              "      <td>7000</td>\n",
              "      <td>0</td>\n",
              "      <td>78434</td>\n",
              "      <td>53.0</td>\n",
              "      <td>SOLEDAD DE GRACIANO SANCHEZ</td>\n",
              "      <td>SLP</td>\n",
              "      <td>Soledad De Graciano Sanchez</td>\n",
              "      <td>San Luis Potosi</td>\n",
              "      <td>DELJ700417HSPLRS03</td>\n",
              "    </tr>\n",
              "    <tr>\n",
              "      <th>22734</th>\n",
              "      <td>22971</td>\n",
              "      <td>2CI4N2WS</td>\n",
              "      <td>96534</td>\n",
              "      <td>18/04/23 18:49</td>\n",
              "      <td>Samsung</td>\n",
              "      <td>A22 5G</td>\n",
              "      <td>26S</td>\n",
              "      <td>5399.0</td>\n",
              "      <td>1086.0</td>\n",
              "      <td>0.0</td>\n",
              "      <td>...</td>\n",
              "      <td>20.11</td>\n",
              "      <td>4750</td>\n",
              "      <td>0</td>\n",
              "      <td>43800</td>\n",
              "      <td>19.0</td>\n",
              "      <td>TIZAYUCA</td>\n",
              "      <td>HGO</td>\n",
              "      <td>San Jose Del Cabo</td>\n",
              "      <td>Baja California Sur</td>\n",
              "      <td>RASI030731HDFMRSA1</td>\n",
              "    </tr>\n",
              "  </tbody>\n",
              "</table>\n",
              "<p>22735 rows × 39 columns</p>\n",
              "</div>\n",
              "    <div class=\"colab-df-buttons\">\n",
              "\n",
              "  <div class=\"colab-df-container\">\n",
              "    <button class=\"colab-df-convert\" onclick=\"convertToInteractive('df-35bfb3a2-a6c3-4f24-912c-db94671853f5')\"\n",
              "            title=\"Convert this dataframe to an interactive table.\"\n",
              "            style=\"display:none;\">\n",
              "\n",
              "  <svg xmlns=\"http://www.w3.org/2000/svg\" height=\"24px\" viewBox=\"0 -960 960 960\">\n",
              "    <path d=\"M120-120v-720h720v720H120Zm60-500h600v-160H180v160Zm220 220h160v-160H400v160Zm0 220h160v-160H400v160ZM180-400h160v-160H180v160Zm440 0h160v-160H620v160ZM180-180h160v-160H180v160Zm440 0h160v-160H620v160Z\"/>\n",
              "  </svg>\n",
              "    </button>\n",
              "\n",
              "  <style>\n",
              "    .colab-df-container {\n",
              "      display:flex;\n",
              "      gap: 12px;\n",
              "    }\n",
              "\n",
              "    .colab-df-convert {\n",
              "      background-color: #E8F0FE;\n",
              "      border: none;\n",
              "      border-radius: 50%;\n",
              "      cursor: pointer;\n",
              "      display: none;\n",
              "      fill: #1967D2;\n",
              "      height: 32px;\n",
              "      padding: 0 0 0 0;\n",
              "      width: 32px;\n",
              "    }\n",
              "\n",
              "    .colab-df-convert:hover {\n",
              "      background-color: #E2EBFA;\n",
              "      box-shadow: 0px 1px 2px rgba(60, 64, 67, 0.3), 0px 1px 3px 1px rgba(60, 64, 67, 0.15);\n",
              "      fill: #174EA6;\n",
              "    }\n",
              "\n",
              "    .colab-df-buttons div {\n",
              "      margin-bottom: 4px;\n",
              "    }\n",
              "\n",
              "    [theme=dark] .colab-df-convert {\n",
              "      background-color: #3B4455;\n",
              "      fill: #D2E3FC;\n",
              "    }\n",
              "\n",
              "    [theme=dark] .colab-df-convert:hover {\n",
              "      background-color: #434B5C;\n",
              "      box-shadow: 0px 1px 3px 1px rgba(0, 0, 0, 0.15);\n",
              "      filter: drop-shadow(0px 1px 2px rgba(0, 0, 0, 0.3));\n",
              "      fill: #FFFFFF;\n",
              "    }\n",
              "  </style>\n",
              "\n",
              "    <script>\n",
              "      const buttonEl =\n",
              "        document.querySelector('#df-35bfb3a2-a6c3-4f24-912c-db94671853f5 button.colab-df-convert');\n",
              "      buttonEl.style.display =\n",
              "        google.colab.kernel.accessAllowed ? 'block' : 'none';\n",
              "\n",
              "      async function convertToInteractive(key) {\n",
              "        const element = document.querySelector('#df-35bfb3a2-a6c3-4f24-912c-db94671853f5');\n",
              "        const dataTable =\n",
              "          await google.colab.kernel.invokeFunction('convertToInteractive',\n",
              "                                                    [key], {});\n",
              "        if (!dataTable) return;\n",
              "\n",
              "        const docLinkHtml = 'Like what you see? Visit the ' +\n",
              "          '<a target=\"_blank\" href=https://colab.research.google.com/notebooks/data_table.ipynb>data table notebook</a>'\n",
              "          + ' to learn more about interactive tables.';\n",
              "        element.innerHTML = '';\n",
              "        dataTable['output_type'] = 'display_data';\n",
              "        await google.colab.output.renderOutput(dataTable, element);\n",
              "        const docLink = document.createElement('div');\n",
              "        docLink.innerHTML = docLinkHtml;\n",
              "        element.appendChild(docLink);\n",
              "      }\n",
              "    </script>\n",
              "  </div>\n",
              "\n",
              "\n",
              "<div id=\"df-c2a3c045-2767-441c-b6b3-5c86994cf987\">\n",
              "  <button class=\"colab-df-quickchart\" onclick=\"quickchart('df-c2a3c045-2767-441c-b6b3-5c86994cf987')\"\n",
              "            title=\"Suggest charts.\"\n",
              "            style=\"display:none;\">\n",
              "\n",
              "<svg xmlns=\"http://www.w3.org/2000/svg\" height=\"24px\"viewBox=\"0 0 24 24\"\n",
              "     width=\"24px\">\n",
              "    <g>\n",
              "        <path d=\"M19 3H5c-1.1 0-2 .9-2 2v14c0 1.1.9 2 2 2h14c1.1 0 2-.9 2-2V5c0-1.1-.9-2-2-2zM9 17H7v-7h2v7zm4 0h-2V7h2v10zm4 0h-2v-4h2v4z\"/>\n",
              "    </g>\n",
              "</svg>\n",
              "  </button>\n",
              "\n",
              "<style>\n",
              "  .colab-df-quickchart {\n",
              "      --bg-color: #E8F0FE;\n",
              "      --fill-color: #1967D2;\n",
              "      --hover-bg-color: #E2EBFA;\n",
              "      --hover-fill-color: #174EA6;\n",
              "      --disabled-fill-color: #AAA;\n",
              "      --disabled-bg-color: #DDD;\n",
              "  }\n",
              "\n",
              "  [theme=dark] .colab-df-quickchart {\n",
              "      --bg-color: #3B4455;\n",
              "      --fill-color: #D2E3FC;\n",
              "      --hover-bg-color: #434B5C;\n",
              "      --hover-fill-color: #FFFFFF;\n",
              "      --disabled-bg-color: #3B4455;\n",
              "      --disabled-fill-color: #666;\n",
              "  }\n",
              "\n",
              "  .colab-df-quickchart {\n",
              "    background-color: var(--bg-color);\n",
              "    border: none;\n",
              "    border-radius: 50%;\n",
              "    cursor: pointer;\n",
              "    display: none;\n",
              "    fill: var(--fill-color);\n",
              "    height: 32px;\n",
              "    padding: 0;\n",
              "    width: 32px;\n",
              "  }\n",
              "\n",
              "  .colab-df-quickchart:hover {\n",
              "    background-color: var(--hover-bg-color);\n",
              "    box-shadow: 0 1px 2px rgba(60, 64, 67, 0.3), 0 1px 3px 1px rgba(60, 64, 67, 0.15);\n",
              "    fill: var(--button-hover-fill-color);\n",
              "  }\n",
              "\n",
              "  .colab-df-quickchart-complete:disabled,\n",
              "  .colab-df-quickchart-complete:disabled:hover {\n",
              "    background-color: var(--disabled-bg-color);\n",
              "    fill: var(--disabled-fill-color);\n",
              "    box-shadow: none;\n",
              "  }\n",
              "\n",
              "  .colab-df-spinner {\n",
              "    border: 2px solid var(--fill-color);\n",
              "    border-color: transparent;\n",
              "    border-bottom-color: var(--fill-color);\n",
              "    animation:\n",
              "      spin 1s steps(1) infinite;\n",
              "  }\n",
              "\n",
              "  @keyframes spin {\n",
              "    0% {\n",
              "      border-color: transparent;\n",
              "      border-bottom-color: var(--fill-color);\n",
              "      border-left-color: var(--fill-color);\n",
              "    }\n",
              "    20% {\n",
              "      border-color: transparent;\n",
              "      border-left-color: var(--fill-color);\n",
              "      border-top-color: var(--fill-color);\n",
              "    }\n",
              "    30% {\n",
              "      border-color: transparent;\n",
              "      border-left-color: var(--fill-color);\n",
              "      border-top-color: var(--fill-color);\n",
              "      border-right-color: var(--fill-color);\n",
              "    }\n",
              "    40% {\n",
              "      border-color: transparent;\n",
              "      border-right-color: var(--fill-color);\n",
              "      border-top-color: var(--fill-color);\n",
              "    }\n",
              "    60% {\n",
              "      border-color: transparent;\n",
              "      border-right-color: var(--fill-color);\n",
              "    }\n",
              "    80% {\n",
              "      border-color: transparent;\n",
              "      border-right-color: var(--fill-color);\n",
              "      border-bottom-color: var(--fill-color);\n",
              "    }\n",
              "    90% {\n",
              "      border-color: transparent;\n",
              "      border-bottom-color: var(--fill-color);\n",
              "    }\n",
              "  }\n",
              "</style>\n",
              "\n",
              "  <script>\n",
              "    async function quickchart(key) {\n",
              "      const quickchartButtonEl =\n",
              "        document.querySelector('#' + key + ' button');\n",
              "      quickchartButtonEl.disabled = true;  // To prevent multiple clicks.\n",
              "      quickchartButtonEl.classList.add('colab-df-spinner');\n",
              "      try {\n",
              "        const charts = await google.colab.kernel.invokeFunction(\n",
              "            'suggestCharts', [key], {});\n",
              "      } catch (error) {\n",
              "        console.error('Error during call to suggestCharts:', error);\n",
              "      }\n",
              "      quickchartButtonEl.classList.remove('colab-df-spinner');\n",
              "      quickchartButtonEl.classList.add('colab-df-quickchart-complete');\n",
              "    }\n",
              "    (() => {\n",
              "      let quickchartButtonEl =\n",
              "        document.querySelector('#df-c2a3c045-2767-441c-b6b3-5c86994cf987 button');\n",
              "      quickchartButtonEl.style.display =\n",
              "        google.colab.kernel.accessAllowed ? 'block' : 'none';\n",
              "    })();\n",
              "  </script>\n",
              "</div>\n",
              "    </div>\n",
              "  </div>\n"
            ]
          },
          "metadata": {},
          "execution_count": 227
        }
      ]
    },
    {
      "cell_type": "code",
      "source": [
        "coeficientes = pd.DataFrame(columns=['Precisión', 'Exactitud', 'Sensibilidad', 'F1'])"
      ],
      "metadata": {
        "id": "M0usMIiFGpnS"
      },
      "execution_count": 228,
      "outputs": []
    },
    {
      "cell_type": "code",
      "source": [
        "df.info()"
      ],
      "metadata": {
        "colab": {
          "base_uri": "https://localhost:8080/"
        },
        "id": "r-umXA7h6zp9",
        "outputId": "41ec20c4-1ce2-4c66-ec6e-7b9a83c07d73"
      },
      "execution_count": 229,
      "outputs": [
        {
          "output_type": "stream",
          "name": "stdout",
          "text": [
            "<class 'pandas.core.frame.DataFrame'>\n",
            "RangeIndex: 22735 entries, 0 to 22734\n",
            "Data columns (total 39 columns):\n",
            " #   Column              Non-Null Count  Dtype  \n",
            "---  ------              --------------  -----  \n",
            " 0   folio               22735 non-null  int64  \n",
            " 1   tag                 22735 non-null  object \n",
            " 2   folio_solicitud     22735 non-null  int64  \n",
            " 3   fecha               22735 non-null  object \n",
            " 4   marca               22735 non-null  object \n",
            " 5   modelo              22735 non-null  object \n",
            " 6   plazo               22735 non-null  object \n",
            " 7   precio              22735 non-null  float64\n",
            " 8   enganche            22735 non-null  float64\n",
            " 9   descuento           22735 non-null  float64\n",
            " 10  semana              22735 non-null  int64  \n",
            " 11  monto_financiado    22735 non-null  float64\n",
            " 12  costo_total         22735 non-null  int64  \n",
            " 13  monto_accesorios    22735 non-null  float64\n",
            " 14  agente_venta        22735 non-null  object \n",
            " 15  dis_venta           22735 non-null  object \n",
            " 16  status              22735 non-null  int64  \n",
            " 17  fraude              22735 non-null  int64  \n",
            " 18  empresa             22722 non-null  object \n",
            " 19  inversion           22735 non-null  int64  \n",
            " 20  pagos_realizados    22735 non-null  int64  \n",
            " 21  reautorizacion      22735 non-null  int64  \n",
            " 22  fecha_ultimo_pago   19379 non-null  object \n",
            " 23  fecha_pago_proximo  19379 non-null  object \n",
            " 24  status_cuenta       19421 non-null  object \n",
            " 25  puntos              22735 non-null  int64  \n",
            " 26  riesgo              22735 non-null  float64\n",
            " 27  score_buro          22735 non-null  int64  \n",
            " 28  razones_buro        15395 non-null  object \n",
            " 29  porc_eng            22735 non-null  float64\n",
            " 30  limite_credito      22735 non-null  object \n",
            " 31  semana_actual       22735 non-null  int64  \n",
            " 32  cp_cliente          15492 non-null  object \n",
            " 33  edad_cliente        22726 non-null  float64\n",
            " 34  cd_cliente          22735 non-null  object \n",
            " 35  edo_cliente         22727 non-null  object \n",
            " 36  cd_venta            22735 non-null  object \n",
            " 37  edo_venta           22735 non-null  object \n",
            " 38  curp                22735 non-null  object \n",
            "dtypes: float64(8), int64(12), object(19)\n",
            "memory usage: 6.8+ MB\n"
          ]
        }
      ]
    },
    {
      "cell_type": "code",
      "source": [
        "df.isnull().sum()"
      ],
      "metadata": {
        "colab": {
          "base_uri": "https://localhost:8080/"
        },
        "id": "dgRcA7nG61Ft",
        "outputId": "421a0478-292b-4ba8-c9a7-4cedab07b853"
      },
      "execution_count": 230,
      "outputs": [
        {
          "output_type": "execute_result",
          "data": {
            "text/plain": [
              "folio                    0\n",
              "tag                      0\n",
              "folio_solicitud          0\n",
              "fecha                    0\n",
              "marca                    0\n",
              "modelo                   0\n",
              "plazo                    0\n",
              "precio                   0\n",
              "enganche                 0\n",
              "descuento                0\n",
              "semana                   0\n",
              "monto_financiado         0\n",
              "costo_total              0\n",
              "monto_accesorios         0\n",
              "agente_venta             0\n",
              "dis_venta                0\n",
              "status                   0\n",
              "fraude                   0\n",
              "empresa                 13\n",
              "inversion                0\n",
              "pagos_realizados         0\n",
              "reautorizacion           0\n",
              "fecha_ultimo_pago     3356\n",
              "fecha_pago_proximo    3356\n",
              "status_cuenta         3314\n",
              "puntos                   0\n",
              "riesgo                   0\n",
              "score_buro               0\n",
              "razones_buro          7340\n",
              "porc_eng                 0\n",
              "limite_credito           0\n",
              "semana_actual            0\n",
              "cp_cliente            7243\n",
              "edad_cliente             9\n",
              "cd_cliente               0\n",
              "edo_cliente              8\n",
              "cd_venta                 0\n",
              "edo_venta                0\n",
              "curp                     0\n",
              "dtype: int64"
            ]
          },
          "metadata": {},
          "execution_count": 230
        }
      ]
    },
    {
      "cell_type": "markdown",
      "source": [
        "#Valores nulos"
      ],
      "metadata": {
        "id": "mJmYVjw_B3v5"
      }
    },
    {
      "cell_type": "code",
      "source": [
        "columna = ['edad_cliente']\n",
        "df[columna] = df[columna].fillna(round(df[columna].mean(),0))"
      ],
      "metadata": {
        "id": "HMVzJYHD7B7j"
      },
      "execution_count": 231,
      "outputs": []
    },
    {
      "cell_type": "code",
      "source": [
        "columna = ['fecha_ultimo_pago', 'fecha_pago_proximo']\n",
        "df[columna] = df[columna].fillna('01/01/1900 00:00')"
      ],
      "metadata": {
        "id": "grM0h8l868AB"
      },
      "execution_count": 232,
      "outputs": []
    },
    {
      "cell_type": "code",
      "source": [
        "df['limite_credito'] = pd.to_numeric(df['limite_credito'], errors='coerce')\n",
        "df['limite_credito'].fillna(7000, inplace=True)"
      ],
      "metadata": {
        "id": "9mzPS_mmCjtd"
      },
      "execution_count": 233,
      "outputs": []
    },
    {
      "cell_type": "code",
      "source": [
        "columna = ['status_cuenta']\n",
        "df[columna] = df[columna].fillna('Corriente')"
      ],
      "metadata": {
        "id": "d4kMOEuC6_pA"
      },
      "execution_count": 234,
      "outputs": []
    },
    {
      "cell_type": "code",
      "source": [
        "columna = ['razones_buro', 'edo_cliente', 'cp_cliente']\n",
        "df[columna] = df[columna].fillna(method = 'bfill')"
      ],
      "metadata": {
        "id": "Luz2dKgiCcc4"
      },
      "execution_count": 235,
      "outputs": []
    },
    {
      "cell_type": "code",
      "source": [
        "columna = ['empresa']\n",
        "df[columna] = df[columna].fillna(method = 'ffill')"
      ],
      "metadata": {
        "id": "cjWbblyyavIM"
      },
      "execution_count": 236,
      "outputs": []
    },
    {
      "cell_type": "code",
      "source": [
        "df.isnull().sum()"
      ],
      "metadata": {
        "colab": {
          "base_uri": "https://localhost:8080/"
        },
        "id": "W8jQFsNmClTp",
        "outputId": "f5b7657f-480c-4dc2-9887-9a247610dc28"
      },
      "execution_count": 237,
      "outputs": [
        {
          "output_type": "execute_result",
          "data": {
            "text/plain": [
              "folio                 0\n",
              "tag                   0\n",
              "folio_solicitud       0\n",
              "fecha                 0\n",
              "marca                 0\n",
              "modelo                0\n",
              "plazo                 0\n",
              "precio                0\n",
              "enganche              0\n",
              "descuento             0\n",
              "semana                0\n",
              "monto_financiado      0\n",
              "costo_total           0\n",
              "monto_accesorios      0\n",
              "agente_venta          0\n",
              "dis_venta             0\n",
              "status                0\n",
              "fraude                0\n",
              "empresa               0\n",
              "inversion             0\n",
              "pagos_realizados      0\n",
              "reautorizacion        0\n",
              "fecha_ultimo_pago     0\n",
              "fecha_pago_proximo    0\n",
              "status_cuenta         0\n",
              "puntos                0\n",
              "riesgo                0\n",
              "score_buro            0\n",
              "razones_buro          0\n",
              "porc_eng              0\n",
              "limite_credito        0\n",
              "semana_actual         0\n",
              "cp_cliente            0\n",
              "edad_cliente          0\n",
              "cd_cliente            0\n",
              "edo_cliente           0\n",
              "cd_venta              0\n",
              "edo_venta             0\n",
              "curp                  0\n",
              "dtype: int64"
            ]
          },
          "metadata": {},
          "execution_count": 237
        }
      ]
    },
    {
      "cell_type": "code",
      "source": [
        "df"
      ],
      "metadata": {
        "colab": {
          "base_uri": "https://localhost:8080/",
          "height": 738
        },
        "id": "Z_P5PR-BpHGo",
        "outputId": "dc745790-3510-4e28-8fe9-3e59bf2a5e96"
      },
      "execution_count": 238,
      "outputs": [
        {
          "output_type": "execute_result",
          "data": {
            "text/plain": [
              "       folio       tag  folio_solicitud           fecha     marca  \\\n",
              "0          3  HDNAWQ3A               30  12/11/21 19:00       ZTE   \n",
              "1          4  M418YNR4               33  12/11/21 19:15  MOTOROLA   \n",
              "2          5  SZ7V3NZT               37  13/11/21 14:13       ZTE   \n",
              "3          6  9I08UIQZ               38  13/11/21 15:45       ZTE   \n",
              "4          7  JMF4LKYU               44  13/11/21 16:10  MOTOROLA   \n",
              "...      ...       ...              ...             ...       ...   \n",
              "22730  22967  92KQVRIX            96502  18/04/23 18:45  Motorola   \n",
              "22731  22968  NWB2EA8J            96479  18/04/23 18:46  Motorola   \n",
              "22732  22969  VDTRJ2W6            96442  18/04/23 18:47   Samsung   \n",
              "22733  22970  PETLF56C            96536  18/04/23 18:49   Samsung   \n",
              "22734  22971  2CI4N2WS            96534  18/04/23 18:49   Samsung   \n",
              "\n",
              "                             modelo plazo  precio  enganche  descuento  ...  \\\n",
              "0                Blade A3 2020 RO B   26S  1949.0     780.0        0.0  ...   \n",
              "1      LTE XT2097-12 E7I POWER Azul   13S  2999.0    1050.0        0.0  ...   \n",
              "2                BLADE A3 2020 Gris   13S  1959.0     490.0        0.0  ...   \n",
              "3                BLADE A3 2020 Gris   13S  1959.0     490.0        0.0  ...   \n",
              "4                             G10 B   39S  4299.0    1075.0        0.0  ...   \n",
              "...                             ...   ...     ...       ...        ...  ...   \n",
              "22730                      Moto E13   26S  3349.0     297.0        0.0  ...   \n",
              "22731                     Moto E22i   26S  4100.0    1209.0        0.0  ...   \n",
              "22732                           A13   26S  4849.0    1152.0        0.0  ...   \n",
              "22733                        A53 5G   39S  9799.0    2799.0        0.0  ...   \n",
              "22734                        A22 5G   26S  5399.0    1086.0        0.0  ...   \n",
              "\n",
              "       porc_eng  limite_credito  semana_actual  cp_cliente edad_cliente  \\\n",
              "0         40.02          5000.0             26       72490         23.0   \n",
              "1         35.01          6000.0             13       72490         60.0   \n",
              "2         25.01             0.0             74       72490         58.0   \n",
              "3         25.01          7000.0             13       72490         42.0   \n",
              "4         25.01          7000.0             74       72490         33.0   \n",
              "...         ...             ...            ...         ...          ...   \n",
              "22730      8.87         10000.0              0       97880         22.0   \n",
              "22731     29.49          5000.0              0       37295         27.0   \n",
              "22732     23.76          4750.0              0       20210         36.0   \n",
              "22733     28.56          7000.0              0       78434         53.0   \n",
              "22734     20.11          4750.0              0       43800         19.0   \n",
              "\n",
              "                        cd_cliente  edo_cliente                     cd_venta  \\\n",
              "0                                0            0                    Tantoyuca   \n",
              "1                          PUEBLA          PUE.   Heroica Puebla de Zaragoza   \n",
              "2                        TANTOYUCA         VER.                            0   \n",
              "3                      AMXTLAN PUE         VER.                     Zacatlan   \n",
              "4                       TANTOYUCA          VER.                    Tantoyuca   \n",
              "...                            ...          ...                          ...   \n",
              "22730                    OXKUTZCAB          YUC                    Oxkutzcab   \n",
              "22731                         LEON          GTO                         Leon   \n",
              "22732               AGUASCALIENTES          AGS               Aguascalientes   \n",
              "22733  SOLEDAD DE GRACIANO SANCHEZ          SLP  Soledad De Graciano Sanchez   \n",
              "22734                     TIZAYUCA          HGO            San Jose Del Cabo   \n",
              "\n",
              "                 edo_venta                curp  \n",
              "0                 Veracruz  AEVM980413MVZNDR02  \n",
              "1                   Puebla  ZALC610119MPLPRR07  \n",
              "2                        0                   0  \n",
              "3                   Puebla  SAMJ790115MPLNRS02  \n",
              "4                 Veracruz  TEHF880707HVZRRR07  \n",
              "...                    ...                 ...  \n",
              "22730              Yucatan  PACT990804MYNCCH05  \n",
              "22731           Guanajuato  HEGB950620MGTRMN03  \n",
              "22732       Aguascalientes  GADF870205HASLZL07  \n",
              "22733      San Luis Potosi  DELJ700417HSPLRS03  \n",
              "22734  Baja California Sur  RASI030731HDFMRSA1  \n",
              "\n",
              "[22735 rows x 39 columns]"
            ],
            "text/html": [
              "\n",
              "  <div id=\"df-01482884-9d2c-4740-b427-8a6b3e045e3a\" class=\"colab-df-container\">\n",
              "    <div>\n",
              "<style scoped>\n",
              "    .dataframe tbody tr th:only-of-type {\n",
              "        vertical-align: middle;\n",
              "    }\n",
              "\n",
              "    .dataframe tbody tr th {\n",
              "        vertical-align: top;\n",
              "    }\n",
              "\n",
              "    .dataframe thead th {\n",
              "        text-align: right;\n",
              "    }\n",
              "</style>\n",
              "<table border=\"1\" class=\"dataframe\">\n",
              "  <thead>\n",
              "    <tr style=\"text-align: right;\">\n",
              "      <th></th>\n",
              "      <th>folio</th>\n",
              "      <th>tag</th>\n",
              "      <th>folio_solicitud</th>\n",
              "      <th>fecha</th>\n",
              "      <th>marca</th>\n",
              "      <th>modelo</th>\n",
              "      <th>plazo</th>\n",
              "      <th>precio</th>\n",
              "      <th>enganche</th>\n",
              "      <th>descuento</th>\n",
              "      <th>...</th>\n",
              "      <th>porc_eng</th>\n",
              "      <th>limite_credito</th>\n",
              "      <th>semana_actual</th>\n",
              "      <th>cp_cliente</th>\n",
              "      <th>edad_cliente</th>\n",
              "      <th>cd_cliente</th>\n",
              "      <th>edo_cliente</th>\n",
              "      <th>cd_venta</th>\n",
              "      <th>edo_venta</th>\n",
              "      <th>curp</th>\n",
              "    </tr>\n",
              "  </thead>\n",
              "  <tbody>\n",
              "    <tr>\n",
              "      <th>0</th>\n",
              "      <td>3</td>\n",
              "      <td>HDNAWQ3A</td>\n",
              "      <td>30</td>\n",
              "      <td>12/11/21 19:00</td>\n",
              "      <td>ZTE</td>\n",
              "      <td>Blade A3 2020 RO B</td>\n",
              "      <td>26S</td>\n",
              "      <td>1949.0</td>\n",
              "      <td>780.0</td>\n",
              "      <td>0.0</td>\n",
              "      <td>...</td>\n",
              "      <td>40.02</td>\n",
              "      <td>5000.0</td>\n",
              "      <td>26</td>\n",
              "      <td>72490</td>\n",
              "      <td>23.0</td>\n",
              "      <td>0</td>\n",
              "      <td>0</td>\n",
              "      <td>Tantoyuca</td>\n",
              "      <td>Veracruz</td>\n",
              "      <td>AEVM980413MVZNDR02</td>\n",
              "    </tr>\n",
              "    <tr>\n",
              "      <th>1</th>\n",
              "      <td>4</td>\n",
              "      <td>M418YNR4</td>\n",
              "      <td>33</td>\n",
              "      <td>12/11/21 19:15</td>\n",
              "      <td>MOTOROLA</td>\n",
              "      <td>LTE XT2097-12 E7I POWER Azul</td>\n",
              "      <td>13S</td>\n",
              "      <td>2999.0</td>\n",
              "      <td>1050.0</td>\n",
              "      <td>0.0</td>\n",
              "      <td>...</td>\n",
              "      <td>35.01</td>\n",
              "      <td>6000.0</td>\n",
              "      <td>13</td>\n",
              "      <td>72490</td>\n",
              "      <td>60.0</td>\n",
              "      <td>PUEBLA</td>\n",
              "      <td>PUE.</td>\n",
              "      <td>Heroica Puebla de Zaragoza</td>\n",
              "      <td>Puebla</td>\n",
              "      <td>ZALC610119MPLPRR07</td>\n",
              "    </tr>\n",
              "    <tr>\n",
              "      <th>2</th>\n",
              "      <td>5</td>\n",
              "      <td>SZ7V3NZT</td>\n",
              "      <td>37</td>\n",
              "      <td>13/11/21 14:13</td>\n",
              "      <td>ZTE</td>\n",
              "      <td>BLADE A3 2020 Gris</td>\n",
              "      <td>13S</td>\n",
              "      <td>1959.0</td>\n",
              "      <td>490.0</td>\n",
              "      <td>0.0</td>\n",
              "      <td>...</td>\n",
              "      <td>25.01</td>\n",
              "      <td>0.0</td>\n",
              "      <td>74</td>\n",
              "      <td>72490</td>\n",
              "      <td>58.0</td>\n",
              "      <td>TANTOYUCA</td>\n",
              "      <td>VER.</td>\n",
              "      <td>0</td>\n",
              "      <td>0</td>\n",
              "      <td>0</td>\n",
              "    </tr>\n",
              "    <tr>\n",
              "      <th>3</th>\n",
              "      <td>6</td>\n",
              "      <td>9I08UIQZ</td>\n",
              "      <td>38</td>\n",
              "      <td>13/11/21 15:45</td>\n",
              "      <td>ZTE</td>\n",
              "      <td>BLADE A3 2020 Gris</td>\n",
              "      <td>13S</td>\n",
              "      <td>1959.0</td>\n",
              "      <td>490.0</td>\n",
              "      <td>0.0</td>\n",
              "      <td>...</td>\n",
              "      <td>25.01</td>\n",
              "      <td>7000.0</td>\n",
              "      <td>13</td>\n",
              "      <td>72490</td>\n",
              "      <td>42.0</td>\n",
              "      <td>AMXTLAN PUE</td>\n",
              "      <td>VER.</td>\n",
              "      <td>Zacatlan</td>\n",
              "      <td>Puebla</td>\n",
              "      <td>SAMJ790115MPLNRS02</td>\n",
              "    </tr>\n",
              "    <tr>\n",
              "      <th>4</th>\n",
              "      <td>7</td>\n",
              "      <td>JMF4LKYU</td>\n",
              "      <td>44</td>\n",
              "      <td>13/11/21 16:10</td>\n",
              "      <td>MOTOROLA</td>\n",
              "      <td>G10 B</td>\n",
              "      <td>39S</td>\n",
              "      <td>4299.0</td>\n",
              "      <td>1075.0</td>\n",
              "      <td>0.0</td>\n",
              "      <td>...</td>\n",
              "      <td>25.01</td>\n",
              "      <td>7000.0</td>\n",
              "      <td>74</td>\n",
              "      <td>72490</td>\n",
              "      <td>33.0</td>\n",
              "      <td>TANTOYUCA</td>\n",
              "      <td>VER.</td>\n",
              "      <td>Tantoyuca</td>\n",
              "      <td>Veracruz</td>\n",
              "      <td>TEHF880707HVZRRR07</td>\n",
              "    </tr>\n",
              "    <tr>\n",
              "      <th>...</th>\n",
              "      <td>...</td>\n",
              "      <td>...</td>\n",
              "      <td>...</td>\n",
              "      <td>...</td>\n",
              "      <td>...</td>\n",
              "      <td>...</td>\n",
              "      <td>...</td>\n",
              "      <td>...</td>\n",
              "      <td>...</td>\n",
              "      <td>...</td>\n",
              "      <td>...</td>\n",
              "      <td>...</td>\n",
              "      <td>...</td>\n",
              "      <td>...</td>\n",
              "      <td>...</td>\n",
              "      <td>...</td>\n",
              "      <td>...</td>\n",
              "      <td>...</td>\n",
              "      <td>...</td>\n",
              "      <td>...</td>\n",
              "      <td>...</td>\n",
              "    </tr>\n",
              "    <tr>\n",
              "      <th>22730</th>\n",
              "      <td>22967</td>\n",
              "      <td>92KQVRIX</td>\n",
              "      <td>96502</td>\n",
              "      <td>18/04/23 18:45</td>\n",
              "      <td>Motorola</td>\n",
              "      <td>Moto E13</td>\n",
              "      <td>26S</td>\n",
              "      <td>3349.0</td>\n",
              "      <td>297.0</td>\n",
              "      <td>0.0</td>\n",
              "      <td>...</td>\n",
              "      <td>8.87</td>\n",
              "      <td>10000.0</td>\n",
              "      <td>0</td>\n",
              "      <td>97880</td>\n",
              "      <td>22.0</td>\n",
              "      <td>OXKUTZCAB</td>\n",
              "      <td>YUC</td>\n",
              "      <td>Oxkutzcab</td>\n",
              "      <td>Yucatan</td>\n",
              "      <td>PACT990804MYNCCH05</td>\n",
              "    </tr>\n",
              "    <tr>\n",
              "      <th>22731</th>\n",
              "      <td>22968</td>\n",
              "      <td>NWB2EA8J</td>\n",
              "      <td>96479</td>\n",
              "      <td>18/04/23 18:46</td>\n",
              "      <td>Motorola</td>\n",
              "      <td>Moto E22i</td>\n",
              "      <td>26S</td>\n",
              "      <td>4100.0</td>\n",
              "      <td>1209.0</td>\n",
              "      <td>0.0</td>\n",
              "      <td>...</td>\n",
              "      <td>29.49</td>\n",
              "      <td>5000.0</td>\n",
              "      <td>0</td>\n",
              "      <td>37295</td>\n",
              "      <td>27.0</td>\n",
              "      <td>LEON</td>\n",
              "      <td>GTO</td>\n",
              "      <td>Leon</td>\n",
              "      <td>Guanajuato</td>\n",
              "      <td>HEGB950620MGTRMN03</td>\n",
              "    </tr>\n",
              "    <tr>\n",
              "      <th>22732</th>\n",
              "      <td>22969</td>\n",
              "      <td>VDTRJ2W6</td>\n",
              "      <td>96442</td>\n",
              "      <td>18/04/23 18:47</td>\n",
              "      <td>Samsung</td>\n",
              "      <td>A13</td>\n",
              "      <td>26S</td>\n",
              "      <td>4849.0</td>\n",
              "      <td>1152.0</td>\n",
              "      <td>0.0</td>\n",
              "      <td>...</td>\n",
              "      <td>23.76</td>\n",
              "      <td>4750.0</td>\n",
              "      <td>0</td>\n",
              "      <td>20210</td>\n",
              "      <td>36.0</td>\n",
              "      <td>AGUASCALIENTES</td>\n",
              "      <td>AGS</td>\n",
              "      <td>Aguascalientes</td>\n",
              "      <td>Aguascalientes</td>\n",
              "      <td>GADF870205HASLZL07</td>\n",
              "    </tr>\n",
              "    <tr>\n",
              "      <th>22733</th>\n",
              "      <td>22970</td>\n",
              "      <td>PETLF56C</td>\n",
              "      <td>96536</td>\n",
              "      <td>18/04/23 18:49</td>\n",
              "      <td>Samsung</td>\n",
              "      <td>A53 5G</td>\n",
              "      <td>39S</td>\n",
              "      <td>9799.0</td>\n",
              "      <td>2799.0</td>\n",
              "      <td>0.0</td>\n",
              "      <td>...</td>\n",
              "      <td>28.56</td>\n",
              "      <td>7000.0</td>\n",
              "      <td>0</td>\n",
              "      <td>78434</td>\n",
              "      <td>53.0</td>\n",
              "      <td>SOLEDAD DE GRACIANO SANCHEZ</td>\n",
              "      <td>SLP</td>\n",
              "      <td>Soledad De Graciano Sanchez</td>\n",
              "      <td>San Luis Potosi</td>\n",
              "      <td>DELJ700417HSPLRS03</td>\n",
              "    </tr>\n",
              "    <tr>\n",
              "      <th>22734</th>\n",
              "      <td>22971</td>\n",
              "      <td>2CI4N2WS</td>\n",
              "      <td>96534</td>\n",
              "      <td>18/04/23 18:49</td>\n",
              "      <td>Samsung</td>\n",
              "      <td>A22 5G</td>\n",
              "      <td>26S</td>\n",
              "      <td>5399.0</td>\n",
              "      <td>1086.0</td>\n",
              "      <td>0.0</td>\n",
              "      <td>...</td>\n",
              "      <td>20.11</td>\n",
              "      <td>4750.0</td>\n",
              "      <td>0</td>\n",
              "      <td>43800</td>\n",
              "      <td>19.0</td>\n",
              "      <td>TIZAYUCA</td>\n",
              "      <td>HGO</td>\n",
              "      <td>San Jose Del Cabo</td>\n",
              "      <td>Baja California Sur</td>\n",
              "      <td>RASI030731HDFMRSA1</td>\n",
              "    </tr>\n",
              "  </tbody>\n",
              "</table>\n",
              "<p>22735 rows × 39 columns</p>\n",
              "</div>\n",
              "    <div class=\"colab-df-buttons\">\n",
              "\n",
              "  <div class=\"colab-df-container\">\n",
              "    <button class=\"colab-df-convert\" onclick=\"convertToInteractive('df-01482884-9d2c-4740-b427-8a6b3e045e3a')\"\n",
              "            title=\"Convert this dataframe to an interactive table.\"\n",
              "            style=\"display:none;\">\n",
              "\n",
              "  <svg xmlns=\"http://www.w3.org/2000/svg\" height=\"24px\" viewBox=\"0 -960 960 960\">\n",
              "    <path d=\"M120-120v-720h720v720H120Zm60-500h600v-160H180v160Zm220 220h160v-160H400v160Zm0 220h160v-160H400v160ZM180-400h160v-160H180v160Zm440 0h160v-160H620v160ZM180-180h160v-160H180v160Zm440 0h160v-160H620v160Z\"/>\n",
              "  </svg>\n",
              "    </button>\n",
              "\n",
              "  <style>\n",
              "    .colab-df-container {\n",
              "      display:flex;\n",
              "      gap: 12px;\n",
              "    }\n",
              "\n",
              "    .colab-df-convert {\n",
              "      background-color: #E8F0FE;\n",
              "      border: none;\n",
              "      border-radius: 50%;\n",
              "      cursor: pointer;\n",
              "      display: none;\n",
              "      fill: #1967D2;\n",
              "      height: 32px;\n",
              "      padding: 0 0 0 0;\n",
              "      width: 32px;\n",
              "    }\n",
              "\n",
              "    .colab-df-convert:hover {\n",
              "      background-color: #E2EBFA;\n",
              "      box-shadow: 0px 1px 2px rgba(60, 64, 67, 0.3), 0px 1px 3px 1px rgba(60, 64, 67, 0.15);\n",
              "      fill: #174EA6;\n",
              "    }\n",
              "\n",
              "    .colab-df-buttons div {\n",
              "      margin-bottom: 4px;\n",
              "    }\n",
              "\n",
              "    [theme=dark] .colab-df-convert {\n",
              "      background-color: #3B4455;\n",
              "      fill: #D2E3FC;\n",
              "    }\n",
              "\n",
              "    [theme=dark] .colab-df-convert:hover {\n",
              "      background-color: #434B5C;\n",
              "      box-shadow: 0px 1px 3px 1px rgba(0, 0, 0, 0.15);\n",
              "      filter: drop-shadow(0px 1px 2px rgba(0, 0, 0, 0.3));\n",
              "      fill: #FFFFFF;\n",
              "    }\n",
              "  </style>\n",
              "\n",
              "    <script>\n",
              "      const buttonEl =\n",
              "        document.querySelector('#df-01482884-9d2c-4740-b427-8a6b3e045e3a button.colab-df-convert');\n",
              "      buttonEl.style.display =\n",
              "        google.colab.kernel.accessAllowed ? 'block' : 'none';\n",
              "\n",
              "      async function convertToInteractive(key) {\n",
              "        const element = document.querySelector('#df-01482884-9d2c-4740-b427-8a6b3e045e3a');\n",
              "        const dataTable =\n",
              "          await google.colab.kernel.invokeFunction('convertToInteractive',\n",
              "                                                    [key], {});\n",
              "        if (!dataTable) return;\n",
              "\n",
              "        const docLinkHtml = 'Like what you see? Visit the ' +\n",
              "          '<a target=\"_blank\" href=https://colab.research.google.com/notebooks/data_table.ipynb>data table notebook</a>'\n",
              "          + ' to learn more about interactive tables.';\n",
              "        element.innerHTML = '';\n",
              "        dataTable['output_type'] = 'display_data';\n",
              "        await google.colab.output.renderOutput(dataTable, element);\n",
              "        const docLink = document.createElement('div');\n",
              "        docLink.innerHTML = docLinkHtml;\n",
              "        element.appendChild(docLink);\n",
              "      }\n",
              "    </script>\n",
              "  </div>\n",
              "\n",
              "\n",
              "<div id=\"df-a296f9d8-e54b-4578-b7ca-07b868b3bd83\">\n",
              "  <button class=\"colab-df-quickchart\" onclick=\"quickchart('df-a296f9d8-e54b-4578-b7ca-07b868b3bd83')\"\n",
              "            title=\"Suggest charts.\"\n",
              "            style=\"display:none;\">\n",
              "\n",
              "<svg xmlns=\"http://www.w3.org/2000/svg\" height=\"24px\"viewBox=\"0 0 24 24\"\n",
              "     width=\"24px\">\n",
              "    <g>\n",
              "        <path d=\"M19 3H5c-1.1 0-2 .9-2 2v14c0 1.1.9 2 2 2h14c1.1 0 2-.9 2-2V5c0-1.1-.9-2-2-2zM9 17H7v-7h2v7zm4 0h-2V7h2v10zm4 0h-2v-4h2v4z\"/>\n",
              "    </g>\n",
              "</svg>\n",
              "  </button>\n",
              "\n",
              "<style>\n",
              "  .colab-df-quickchart {\n",
              "      --bg-color: #E8F0FE;\n",
              "      --fill-color: #1967D2;\n",
              "      --hover-bg-color: #E2EBFA;\n",
              "      --hover-fill-color: #174EA6;\n",
              "      --disabled-fill-color: #AAA;\n",
              "      --disabled-bg-color: #DDD;\n",
              "  }\n",
              "\n",
              "  [theme=dark] .colab-df-quickchart {\n",
              "      --bg-color: #3B4455;\n",
              "      --fill-color: #D2E3FC;\n",
              "      --hover-bg-color: #434B5C;\n",
              "      --hover-fill-color: #FFFFFF;\n",
              "      --disabled-bg-color: #3B4455;\n",
              "      --disabled-fill-color: #666;\n",
              "  }\n",
              "\n",
              "  .colab-df-quickchart {\n",
              "    background-color: var(--bg-color);\n",
              "    border: none;\n",
              "    border-radius: 50%;\n",
              "    cursor: pointer;\n",
              "    display: none;\n",
              "    fill: var(--fill-color);\n",
              "    height: 32px;\n",
              "    padding: 0;\n",
              "    width: 32px;\n",
              "  }\n",
              "\n",
              "  .colab-df-quickchart:hover {\n",
              "    background-color: var(--hover-bg-color);\n",
              "    box-shadow: 0 1px 2px rgba(60, 64, 67, 0.3), 0 1px 3px 1px rgba(60, 64, 67, 0.15);\n",
              "    fill: var(--button-hover-fill-color);\n",
              "  }\n",
              "\n",
              "  .colab-df-quickchart-complete:disabled,\n",
              "  .colab-df-quickchart-complete:disabled:hover {\n",
              "    background-color: var(--disabled-bg-color);\n",
              "    fill: var(--disabled-fill-color);\n",
              "    box-shadow: none;\n",
              "  }\n",
              "\n",
              "  .colab-df-spinner {\n",
              "    border: 2px solid var(--fill-color);\n",
              "    border-color: transparent;\n",
              "    border-bottom-color: var(--fill-color);\n",
              "    animation:\n",
              "      spin 1s steps(1) infinite;\n",
              "  }\n",
              "\n",
              "  @keyframes spin {\n",
              "    0% {\n",
              "      border-color: transparent;\n",
              "      border-bottom-color: var(--fill-color);\n",
              "      border-left-color: var(--fill-color);\n",
              "    }\n",
              "    20% {\n",
              "      border-color: transparent;\n",
              "      border-left-color: var(--fill-color);\n",
              "      border-top-color: var(--fill-color);\n",
              "    }\n",
              "    30% {\n",
              "      border-color: transparent;\n",
              "      border-left-color: var(--fill-color);\n",
              "      border-top-color: var(--fill-color);\n",
              "      border-right-color: var(--fill-color);\n",
              "    }\n",
              "    40% {\n",
              "      border-color: transparent;\n",
              "      border-right-color: var(--fill-color);\n",
              "      border-top-color: var(--fill-color);\n",
              "    }\n",
              "    60% {\n",
              "      border-color: transparent;\n",
              "      border-right-color: var(--fill-color);\n",
              "    }\n",
              "    80% {\n",
              "      border-color: transparent;\n",
              "      border-right-color: var(--fill-color);\n",
              "      border-bottom-color: var(--fill-color);\n",
              "    }\n",
              "    90% {\n",
              "      border-color: transparent;\n",
              "      border-bottom-color: var(--fill-color);\n",
              "    }\n",
              "  }\n",
              "</style>\n",
              "\n",
              "  <script>\n",
              "    async function quickchart(key) {\n",
              "      const quickchartButtonEl =\n",
              "        document.querySelector('#' + key + ' button');\n",
              "      quickchartButtonEl.disabled = true;  // To prevent multiple clicks.\n",
              "      quickchartButtonEl.classList.add('colab-df-spinner');\n",
              "      try {\n",
              "        const charts = await google.colab.kernel.invokeFunction(\n",
              "            'suggestCharts', [key], {});\n",
              "      } catch (error) {\n",
              "        console.error('Error during call to suggestCharts:', error);\n",
              "      }\n",
              "      quickchartButtonEl.classList.remove('colab-df-spinner');\n",
              "      quickchartButtonEl.classList.add('colab-df-quickchart-complete');\n",
              "    }\n",
              "    (() => {\n",
              "      let quickchartButtonEl =\n",
              "        document.querySelector('#df-a296f9d8-e54b-4578-b7ca-07b868b3bd83 button');\n",
              "      quickchartButtonEl.style.display =\n",
              "        google.colab.kernel.accessAllowed ? 'block' : 'none';\n",
              "    })();\n",
              "  </script>\n",
              "</div>\n",
              "    </div>\n",
              "  </div>\n"
            ]
          },
          "metadata": {},
          "execution_count": 238
        }
      ]
    },
    {
      "cell_type": "code",
      "source": [
        "numero = df.select_dtypes(include=['number'])\n",
        "categorico = df.select_dtypes(include=['object'])"
      ],
      "metadata": {
        "id": "RUpgY39ID1LE"
      },
      "execution_count": 239,
      "outputs": []
    },
    {
      "cell_type": "markdown",
      "source": [
        "#Outliers"
      ],
      "metadata": {
        "id": "9MiZ_u29B5uI"
      }
    },
    {
      "cell_type": "code",
      "source": [
        "def remove_outliers_iqr(df, column_name, threshold=1.5):\n",
        "    Q1 = df[column_name].quantile(0.25)\n",
        "    Q3 = df[column_name].quantile(0.75)\n",
        "    IQR = Q3 - Q1\n",
        "    lower_bound = Q1 - threshold * IQR\n",
        "    upper_bound = Q3 + threshold * IQR\n",
        "    df = df[(df[column_name] >= lower_bound) & (df[column_name] <= upper_bound)]\n",
        "    return df\n",
        "\n",
        "for column in numero.columns:\n",
        "    df = remove_outliers_iqr(df, column)\n",
        "\n",
        "res = pd.concat([df, categorico], axis=1)\n",
        "res.shape"
      ],
      "metadata": {
        "colab": {
          "base_uri": "https://localhost:8080/"
        },
        "id": "gohL4De6PPCA",
        "outputId": "01b7bcbe-4667-46b7-936b-da4d02fcbf64"
      },
      "execution_count": 240,
      "outputs": [
        {
          "output_type": "execute_result",
          "data": {
            "text/plain": [
              "(22735, 57)"
            ]
          },
          "metadata": {},
          "execution_count": 240
        }
      ]
    },
    {
      "cell_type": "code",
      "source": [
        "df= pd.get_dummies(df, columns=['status_cuenta'], drop_first=True)\n",
        "df= pd.get_dummies(df, columns=['plazo'], drop_first=False)\n",
        "df = pd.get_dummies(df, columns=['status'], drop_first=False)\n",
        "df"
      ],
      "metadata": {
        "colab": {
          "base_uri": "https://localhost:8080/",
          "height": 669
        },
        "id": "8v3heDIKpZq0",
        "outputId": "17fd6b34-0ead-437a-c535-c858b0ed77a2"
      },
      "execution_count": 241,
      "outputs": [
        {
          "output_type": "execute_result",
          "data": {
            "text/plain": [
              "       folio       tag  folio_solicitud           fecha     marca  \\\n",
              "7243    7380  RU2XJKH3            27286  19/08/22 14:59       ZTE   \n",
              "7247    7384  6MCSNDF8            27318  19/08/22 16:35   Samsung   \n",
              "7250    7387  JJ6G3YBG            27352  19/08/22 17:31     NOKIA   \n",
              "7254    7391  T9BANZI8            27375  19/08/22 19:11  Motorola   \n",
              "7255    7392  7WRXAJDS            27385  19/08/22 19:16   Samsung   \n",
              "...      ...       ...              ...             ...       ...   \n",
              "22721  22958  O02NOS0D            96477  18/04/23 17:04   Samsung   \n",
              "22722  22959  F43OIVKM            96463  18/04/23 17:05  MOTOROLA   \n",
              "22727  22964  BVYCEU9N            96400  18/04/23 17:32  Motorola   \n",
              "22731  22968  NWB2EA8J            96479  18/04/23 18:46  Motorola   \n",
              "22732  22969  VDTRJ2W6            96442  18/04/23 18:47   Samsung   \n",
              "\n",
              "                   modelo   precio  enganche  descuento  semana  ...  \\\n",
              "7243   BLADE A3 2020 Rojo  2122.82     539.0        0.0     110  ...   \n",
              "7247                  A13  5149.00     882.0      200.0     295  ...   \n",
              "7250    C20 2+32GB AZUL B  3040.83     847.0        0.0     253  ...   \n",
              "7254    XT2167-1 MOTO G41  4799.00     921.0        0.0     268  ...   \n",
              "7255                  A13  5149.00     893.0      200.0     295  ...   \n",
              "...                   ...      ...       ...        ...     ...  ...   \n",
              "22721                A04E  3149.00     810.0      200.0     162  ...   \n",
              "22722            MOTO G31  4749.00     541.0        0.0     232  ...   \n",
              "22727         Moto G51 5G  5300.00    1325.0        0.0     275  ...   \n",
              "22731           Moto E22i  4100.00    1209.0        0.0     200  ...   \n",
              "22732                 A13  4849.00    1152.0        0.0     256  ...   \n",
              "\n",
              "       status_cuenta_Cancelado  status_cuenta_Corriente  status_cuenta_Mora  \\\n",
              "7243                         0                        0                   0   \n",
              "7247                         0                        1                   0   \n",
              "7250                         0                        0                   1   \n",
              "7254                         0                        0                   1   \n",
              "7255                         0                        0                   0   \n",
              "...                        ...                      ...                 ...   \n",
              "22721                        0                        1                   0   \n",
              "22722                        0                        1                   0   \n",
              "22727                        0                        1                   0   \n",
              "22731                        0                        1                   0   \n",
              "22732                        0                        1                   0   \n",
              "\n",
              "      plazo_13S plazo_26S  plazo_39S plazo_52S  status_1  status_2  status_3  \n",
              "7243          0         1          0         0         1         0         0  \n",
              "7247          0         1          0         0         1         0         0  \n",
              "7250          1         0          0         0         1         0         0  \n",
              "7254          0         1          0         0         1         0         0  \n",
              "7255          0         1          0         0         0         1         0  \n",
              "...         ...       ...        ...       ...       ...       ...       ...  \n",
              "22721         0         1          0         0         1         0         0  \n",
              "22722         0         0          1         0         1         0         0  \n",
              "22727         0         1          0         0         1         0         0  \n",
              "22731         0         1          0         0         1         0         0  \n",
              "22732         0         1          0         0         1         0         0  \n",
              "\n",
              "[6294 rows x 46 columns]"
            ],
            "text/html": [
              "\n",
              "  <div id=\"df-9dc1f245-be4f-4012-b29a-0ecef29fc5a9\" class=\"colab-df-container\">\n",
              "    <div>\n",
              "<style scoped>\n",
              "    .dataframe tbody tr th:only-of-type {\n",
              "        vertical-align: middle;\n",
              "    }\n",
              "\n",
              "    .dataframe tbody tr th {\n",
              "        vertical-align: top;\n",
              "    }\n",
              "\n",
              "    .dataframe thead th {\n",
              "        text-align: right;\n",
              "    }\n",
              "</style>\n",
              "<table border=\"1\" class=\"dataframe\">\n",
              "  <thead>\n",
              "    <tr style=\"text-align: right;\">\n",
              "      <th></th>\n",
              "      <th>folio</th>\n",
              "      <th>tag</th>\n",
              "      <th>folio_solicitud</th>\n",
              "      <th>fecha</th>\n",
              "      <th>marca</th>\n",
              "      <th>modelo</th>\n",
              "      <th>precio</th>\n",
              "      <th>enganche</th>\n",
              "      <th>descuento</th>\n",
              "      <th>semana</th>\n",
              "      <th>...</th>\n",
              "      <th>status_cuenta_Cancelado</th>\n",
              "      <th>status_cuenta_Corriente</th>\n",
              "      <th>status_cuenta_Mora</th>\n",
              "      <th>plazo_13S</th>\n",
              "      <th>plazo_26S</th>\n",
              "      <th>plazo_39S</th>\n",
              "      <th>plazo_52S</th>\n",
              "      <th>status_1</th>\n",
              "      <th>status_2</th>\n",
              "      <th>status_3</th>\n",
              "    </tr>\n",
              "  </thead>\n",
              "  <tbody>\n",
              "    <tr>\n",
              "      <th>7243</th>\n",
              "      <td>7380</td>\n",
              "      <td>RU2XJKH3</td>\n",
              "      <td>27286</td>\n",
              "      <td>19/08/22 14:59</td>\n",
              "      <td>ZTE</td>\n",
              "      <td>BLADE A3 2020 Rojo</td>\n",
              "      <td>2122.82</td>\n",
              "      <td>539.0</td>\n",
              "      <td>0.0</td>\n",
              "      <td>110</td>\n",
              "      <td>...</td>\n",
              "      <td>0</td>\n",
              "      <td>0</td>\n",
              "      <td>0</td>\n",
              "      <td>0</td>\n",
              "      <td>1</td>\n",
              "      <td>0</td>\n",
              "      <td>0</td>\n",
              "      <td>1</td>\n",
              "      <td>0</td>\n",
              "      <td>0</td>\n",
              "    </tr>\n",
              "    <tr>\n",
              "      <th>7247</th>\n",
              "      <td>7384</td>\n",
              "      <td>6MCSNDF8</td>\n",
              "      <td>27318</td>\n",
              "      <td>19/08/22 16:35</td>\n",
              "      <td>Samsung</td>\n",
              "      <td>A13</td>\n",
              "      <td>5149.00</td>\n",
              "      <td>882.0</td>\n",
              "      <td>200.0</td>\n",
              "      <td>295</td>\n",
              "      <td>...</td>\n",
              "      <td>0</td>\n",
              "      <td>1</td>\n",
              "      <td>0</td>\n",
              "      <td>0</td>\n",
              "      <td>1</td>\n",
              "      <td>0</td>\n",
              "      <td>0</td>\n",
              "      <td>1</td>\n",
              "      <td>0</td>\n",
              "      <td>0</td>\n",
              "    </tr>\n",
              "    <tr>\n",
              "      <th>7250</th>\n",
              "      <td>7387</td>\n",
              "      <td>JJ6G3YBG</td>\n",
              "      <td>27352</td>\n",
              "      <td>19/08/22 17:31</td>\n",
              "      <td>NOKIA</td>\n",
              "      <td>C20 2+32GB AZUL B</td>\n",
              "      <td>3040.83</td>\n",
              "      <td>847.0</td>\n",
              "      <td>0.0</td>\n",
              "      <td>253</td>\n",
              "      <td>...</td>\n",
              "      <td>0</td>\n",
              "      <td>0</td>\n",
              "      <td>1</td>\n",
              "      <td>1</td>\n",
              "      <td>0</td>\n",
              "      <td>0</td>\n",
              "      <td>0</td>\n",
              "      <td>1</td>\n",
              "      <td>0</td>\n",
              "      <td>0</td>\n",
              "    </tr>\n",
              "    <tr>\n",
              "      <th>7254</th>\n",
              "      <td>7391</td>\n",
              "      <td>T9BANZI8</td>\n",
              "      <td>27375</td>\n",
              "      <td>19/08/22 19:11</td>\n",
              "      <td>Motorola</td>\n",
              "      <td>XT2167-1 MOTO G41</td>\n",
              "      <td>4799.00</td>\n",
              "      <td>921.0</td>\n",
              "      <td>0.0</td>\n",
              "      <td>268</td>\n",
              "      <td>...</td>\n",
              "      <td>0</td>\n",
              "      <td>0</td>\n",
              "      <td>1</td>\n",
              "      <td>0</td>\n",
              "      <td>1</td>\n",
              "      <td>0</td>\n",
              "      <td>0</td>\n",
              "      <td>1</td>\n",
              "      <td>0</td>\n",
              "      <td>0</td>\n",
              "    </tr>\n",
              "    <tr>\n",
              "      <th>7255</th>\n",
              "      <td>7392</td>\n",
              "      <td>7WRXAJDS</td>\n",
              "      <td>27385</td>\n",
              "      <td>19/08/22 19:16</td>\n",
              "      <td>Samsung</td>\n",
              "      <td>A13</td>\n",
              "      <td>5149.00</td>\n",
              "      <td>893.0</td>\n",
              "      <td>200.0</td>\n",
              "      <td>295</td>\n",
              "      <td>...</td>\n",
              "      <td>0</td>\n",
              "      <td>0</td>\n",
              "      <td>0</td>\n",
              "      <td>0</td>\n",
              "      <td>1</td>\n",
              "      <td>0</td>\n",
              "      <td>0</td>\n",
              "      <td>0</td>\n",
              "      <td>1</td>\n",
              "      <td>0</td>\n",
              "    </tr>\n",
              "    <tr>\n",
              "      <th>...</th>\n",
              "      <td>...</td>\n",
              "      <td>...</td>\n",
              "      <td>...</td>\n",
              "      <td>...</td>\n",
              "      <td>...</td>\n",
              "      <td>...</td>\n",
              "      <td>...</td>\n",
              "      <td>...</td>\n",
              "      <td>...</td>\n",
              "      <td>...</td>\n",
              "      <td>...</td>\n",
              "      <td>...</td>\n",
              "      <td>...</td>\n",
              "      <td>...</td>\n",
              "      <td>...</td>\n",
              "      <td>...</td>\n",
              "      <td>...</td>\n",
              "      <td>...</td>\n",
              "      <td>...</td>\n",
              "      <td>...</td>\n",
              "      <td>...</td>\n",
              "    </tr>\n",
              "    <tr>\n",
              "      <th>22721</th>\n",
              "      <td>22958</td>\n",
              "      <td>O02NOS0D</td>\n",
              "      <td>96477</td>\n",
              "      <td>18/04/23 17:04</td>\n",
              "      <td>Samsung</td>\n",
              "      <td>A04E</td>\n",
              "      <td>3149.00</td>\n",
              "      <td>810.0</td>\n",
              "      <td>200.0</td>\n",
              "      <td>162</td>\n",
              "      <td>...</td>\n",
              "      <td>0</td>\n",
              "      <td>1</td>\n",
              "      <td>0</td>\n",
              "      <td>0</td>\n",
              "      <td>1</td>\n",
              "      <td>0</td>\n",
              "      <td>0</td>\n",
              "      <td>1</td>\n",
              "      <td>0</td>\n",
              "      <td>0</td>\n",
              "    </tr>\n",
              "    <tr>\n",
              "      <th>22722</th>\n",
              "      <td>22959</td>\n",
              "      <td>F43OIVKM</td>\n",
              "      <td>96463</td>\n",
              "      <td>18/04/23 17:05</td>\n",
              "      <td>MOTOROLA</td>\n",
              "      <td>MOTO G31</td>\n",
              "      <td>4749.00</td>\n",
              "      <td>541.0</td>\n",
              "      <td>0.0</td>\n",
              "      <td>232</td>\n",
              "      <td>...</td>\n",
              "      <td>0</td>\n",
              "      <td>1</td>\n",
              "      <td>0</td>\n",
              "      <td>0</td>\n",
              "      <td>0</td>\n",
              "      <td>1</td>\n",
              "      <td>0</td>\n",
              "      <td>1</td>\n",
              "      <td>0</td>\n",
              "      <td>0</td>\n",
              "    </tr>\n",
              "    <tr>\n",
              "      <th>22727</th>\n",
              "      <td>22964</td>\n",
              "      <td>BVYCEU9N</td>\n",
              "      <td>96400</td>\n",
              "      <td>18/04/23 17:32</td>\n",
              "      <td>Motorola</td>\n",
              "      <td>Moto G51 5G</td>\n",
              "      <td>5300.00</td>\n",
              "      <td>1325.0</td>\n",
              "      <td>0.0</td>\n",
              "      <td>275</td>\n",
              "      <td>...</td>\n",
              "      <td>0</td>\n",
              "      <td>1</td>\n",
              "      <td>0</td>\n",
              "      <td>0</td>\n",
              "      <td>1</td>\n",
              "      <td>0</td>\n",
              "      <td>0</td>\n",
              "      <td>1</td>\n",
              "      <td>0</td>\n",
              "      <td>0</td>\n",
              "    </tr>\n",
              "    <tr>\n",
              "      <th>22731</th>\n",
              "      <td>22968</td>\n",
              "      <td>NWB2EA8J</td>\n",
              "      <td>96479</td>\n",
              "      <td>18/04/23 18:46</td>\n",
              "      <td>Motorola</td>\n",
              "      <td>Moto E22i</td>\n",
              "      <td>4100.00</td>\n",
              "      <td>1209.0</td>\n",
              "      <td>0.0</td>\n",
              "      <td>200</td>\n",
              "      <td>...</td>\n",
              "      <td>0</td>\n",
              "      <td>1</td>\n",
              "      <td>0</td>\n",
              "      <td>0</td>\n",
              "      <td>1</td>\n",
              "      <td>0</td>\n",
              "      <td>0</td>\n",
              "      <td>1</td>\n",
              "      <td>0</td>\n",
              "      <td>0</td>\n",
              "    </tr>\n",
              "    <tr>\n",
              "      <th>22732</th>\n",
              "      <td>22969</td>\n",
              "      <td>VDTRJ2W6</td>\n",
              "      <td>96442</td>\n",
              "      <td>18/04/23 18:47</td>\n",
              "      <td>Samsung</td>\n",
              "      <td>A13</td>\n",
              "      <td>4849.00</td>\n",
              "      <td>1152.0</td>\n",
              "      <td>0.0</td>\n",
              "      <td>256</td>\n",
              "      <td>...</td>\n",
              "      <td>0</td>\n",
              "      <td>1</td>\n",
              "      <td>0</td>\n",
              "      <td>0</td>\n",
              "      <td>1</td>\n",
              "      <td>0</td>\n",
              "      <td>0</td>\n",
              "      <td>1</td>\n",
              "      <td>0</td>\n",
              "      <td>0</td>\n",
              "    </tr>\n",
              "  </tbody>\n",
              "</table>\n",
              "<p>6294 rows × 46 columns</p>\n",
              "</div>\n",
              "    <div class=\"colab-df-buttons\">\n",
              "\n",
              "  <div class=\"colab-df-container\">\n",
              "    <button class=\"colab-df-convert\" onclick=\"convertToInteractive('df-9dc1f245-be4f-4012-b29a-0ecef29fc5a9')\"\n",
              "            title=\"Convert this dataframe to an interactive table.\"\n",
              "            style=\"display:none;\">\n",
              "\n",
              "  <svg xmlns=\"http://www.w3.org/2000/svg\" height=\"24px\" viewBox=\"0 -960 960 960\">\n",
              "    <path d=\"M120-120v-720h720v720H120Zm60-500h600v-160H180v160Zm220 220h160v-160H400v160Zm0 220h160v-160H400v160ZM180-400h160v-160H180v160Zm440 0h160v-160H620v160ZM180-180h160v-160H180v160Zm440 0h160v-160H620v160Z\"/>\n",
              "  </svg>\n",
              "    </button>\n",
              "\n",
              "  <style>\n",
              "    .colab-df-container {\n",
              "      display:flex;\n",
              "      gap: 12px;\n",
              "    }\n",
              "\n",
              "    .colab-df-convert {\n",
              "      background-color: #E8F0FE;\n",
              "      border: none;\n",
              "      border-radius: 50%;\n",
              "      cursor: pointer;\n",
              "      display: none;\n",
              "      fill: #1967D2;\n",
              "      height: 32px;\n",
              "      padding: 0 0 0 0;\n",
              "      width: 32px;\n",
              "    }\n",
              "\n",
              "    .colab-df-convert:hover {\n",
              "      background-color: #E2EBFA;\n",
              "      box-shadow: 0px 1px 2px rgba(60, 64, 67, 0.3), 0px 1px 3px 1px rgba(60, 64, 67, 0.15);\n",
              "      fill: #174EA6;\n",
              "    }\n",
              "\n",
              "    .colab-df-buttons div {\n",
              "      margin-bottom: 4px;\n",
              "    }\n",
              "\n",
              "    [theme=dark] .colab-df-convert {\n",
              "      background-color: #3B4455;\n",
              "      fill: #D2E3FC;\n",
              "    }\n",
              "\n",
              "    [theme=dark] .colab-df-convert:hover {\n",
              "      background-color: #434B5C;\n",
              "      box-shadow: 0px 1px 3px 1px rgba(0, 0, 0, 0.15);\n",
              "      filter: drop-shadow(0px 1px 2px rgba(0, 0, 0, 0.3));\n",
              "      fill: #FFFFFF;\n",
              "    }\n",
              "  </style>\n",
              "\n",
              "    <script>\n",
              "      const buttonEl =\n",
              "        document.querySelector('#df-9dc1f245-be4f-4012-b29a-0ecef29fc5a9 button.colab-df-convert');\n",
              "      buttonEl.style.display =\n",
              "        google.colab.kernel.accessAllowed ? 'block' : 'none';\n",
              "\n",
              "      async function convertToInteractive(key) {\n",
              "        const element = document.querySelector('#df-9dc1f245-be4f-4012-b29a-0ecef29fc5a9');\n",
              "        const dataTable =\n",
              "          await google.colab.kernel.invokeFunction('convertToInteractive',\n",
              "                                                    [key], {});\n",
              "        if (!dataTable) return;\n",
              "\n",
              "        const docLinkHtml = 'Like what you see? Visit the ' +\n",
              "          '<a target=\"_blank\" href=https://colab.research.google.com/notebooks/data_table.ipynb>data table notebook</a>'\n",
              "          + ' to learn more about interactive tables.';\n",
              "        element.innerHTML = '';\n",
              "        dataTable['output_type'] = 'display_data';\n",
              "        await google.colab.output.renderOutput(dataTable, element);\n",
              "        const docLink = document.createElement('div');\n",
              "        docLink.innerHTML = docLinkHtml;\n",
              "        element.appendChild(docLink);\n",
              "      }\n",
              "    </script>\n",
              "  </div>\n",
              "\n",
              "\n",
              "<div id=\"df-dbfdc2a2-dc74-4522-9161-b6a6b34616ea\">\n",
              "  <button class=\"colab-df-quickchart\" onclick=\"quickchart('df-dbfdc2a2-dc74-4522-9161-b6a6b34616ea')\"\n",
              "            title=\"Suggest charts.\"\n",
              "            style=\"display:none;\">\n",
              "\n",
              "<svg xmlns=\"http://www.w3.org/2000/svg\" height=\"24px\"viewBox=\"0 0 24 24\"\n",
              "     width=\"24px\">\n",
              "    <g>\n",
              "        <path d=\"M19 3H5c-1.1 0-2 .9-2 2v14c0 1.1.9 2 2 2h14c1.1 0 2-.9 2-2V5c0-1.1-.9-2-2-2zM9 17H7v-7h2v7zm4 0h-2V7h2v10zm4 0h-2v-4h2v4z\"/>\n",
              "    </g>\n",
              "</svg>\n",
              "  </button>\n",
              "\n",
              "<style>\n",
              "  .colab-df-quickchart {\n",
              "      --bg-color: #E8F0FE;\n",
              "      --fill-color: #1967D2;\n",
              "      --hover-bg-color: #E2EBFA;\n",
              "      --hover-fill-color: #174EA6;\n",
              "      --disabled-fill-color: #AAA;\n",
              "      --disabled-bg-color: #DDD;\n",
              "  }\n",
              "\n",
              "  [theme=dark] .colab-df-quickchart {\n",
              "      --bg-color: #3B4455;\n",
              "      --fill-color: #D2E3FC;\n",
              "      --hover-bg-color: #434B5C;\n",
              "      --hover-fill-color: #FFFFFF;\n",
              "      --disabled-bg-color: #3B4455;\n",
              "      --disabled-fill-color: #666;\n",
              "  }\n",
              "\n",
              "  .colab-df-quickchart {\n",
              "    background-color: var(--bg-color);\n",
              "    border: none;\n",
              "    border-radius: 50%;\n",
              "    cursor: pointer;\n",
              "    display: none;\n",
              "    fill: var(--fill-color);\n",
              "    height: 32px;\n",
              "    padding: 0;\n",
              "    width: 32px;\n",
              "  }\n",
              "\n",
              "  .colab-df-quickchart:hover {\n",
              "    background-color: var(--hover-bg-color);\n",
              "    box-shadow: 0 1px 2px rgba(60, 64, 67, 0.3), 0 1px 3px 1px rgba(60, 64, 67, 0.15);\n",
              "    fill: var(--button-hover-fill-color);\n",
              "  }\n",
              "\n",
              "  .colab-df-quickchart-complete:disabled,\n",
              "  .colab-df-quickchart-complete:disabled:hover {\n",
              "    background-color: var(--disabled-bg-color);\n",
              "    fill: var(--disabled-fill-color);\n",
              "    box-shadow: none;\n",
              "  }\n",
              "\n",
              "  .colab-df-spinner {\n",
              "    border: 2px solid var(--fill-color);\n",
              "    border-color: transparent;\n",
              "    border-bottom-color: var(--fill-color);\n",
              "    animation:\n",
              "      spin 1s steps(1) infinite;\n",
              "  }\n",
              "\n",
              "  @keyframes spin {\n",
              "    0% {\n",
              "      border-color: transparent;\n",
              "      border-bottom-color: var(--fill-color);\n",
              "      border-left-color: var(--fill-color);\n",
              "    }\n",
              "    20% {\n",
              "      border-color: transparent;\n",
              "      border-left-color: var(--fill-color);\n",
              "      border-top-color: var(--fill-color);\n",
              "    }\n",
              "    30% {\n",
              "      border-color: transparent;\n",
              "      border-left-color: var(--fill-color);\n",
              "      border-top-color: var(--fill-color);\n",
              "      border-right-color: var(--fill-color);\n",
              "    }\n",
              "    40% {\n",
              "      border-color: transparent;\n",
              "      border-right-color: var(--fill-color);\n",
              "      border-top-color: var(--fill-color);\n",
              "    }\n",
              "    60% {\n",
              "      border-color: transparent;\n",
              "      border-right-color: var(--fill-color);\n",
              "    }\n",
              "    80% {\n",
              "      border-color: transparent;\n",
              "      border-right-color: var(--fill-color);\n",
              "      border-bottom-color: var(--fill-color);\n",
              "    }\n",
              "    90% {\n",
              "      border-color: transparent;\n",
              "      border-bottom-color: var(--fill-color);\n",
              "    }\n",
              "  }\n",
              "</style>\n",
              "\n",
              "  <script>\n",
              "    async function quickchart(key) {\n",
              "      const quickchartButtonEl =\n",
              "        document.querySelector('#' + key + ' button');\n",
              "      quickchartButtonEl.disabled = true;  // To prevent multiple clicks.\n",
              "      quickchartButtonEl.classList.add('colab-df-spinner');\n",
              "      try {\n",
              "        const charts = await google.colab.kernel.invokeFunction(\n",
              "            'suggestCharts', [key], {});\n",
              "      } catch (error) {\n",
              "        console.error('Error during call to suggestCharts:', error);\n",
              "      }\n",
              "      quickchartButtonEl.classList.remove('colab-df-spinner');\n",
              "      quickchartButtonEl.classList.add('colab-df-quickchart-complete');\n",
              "    }\n",
              "    (() => {\n",
              "      let quickchartButtonEl =\n",
              "        document.querySelector('#df-dbfdc2a2-dc74-4522-9161-b6a6b34616ea button');\n",
              "      quickchartButtonEl.style.display =\n",
              "        google.colab.kernel.accessAllowed ? 'block' : 'none';\n",
              "    })();\n",
              "  </script>\n",
              "</div>\n",
              "    </div>\n",
              "  </div>\n"
            ]
          },
          "metadata": {},
          "execution_count": 241
        }
      ]
    },
    {
      "cell_type": "markdown",
      "source": [
        "#Caso 1\n",
        "Status cuenta Cancelado - Limite credito, porc_eng, score buro"
      ],
      "metadata": {
        "id": "BJHNK3wyIiFd"
      }
    },
    {
      "cell_type": "code",
      "source": [
        "df1=df.copy()\n",
        "df1['status_cuenta_Cancelado'] = df1['status_cuenta_Cancelado'].replace({1: 'yes', 0: 'no'})\n",
        "Vars_Indep= df1[['limite_credito', 'porc_eng', 'score_buro']]\n",
        "Var_Dep= df1['status_cuenta_Cancelado']\n",
        "X= Vars_Indep\n",
        "y= Var_Dep\n",
        "#Split entrenamiento - prueba:\n",
        "X_train, X_test, y_train, y_test = train_test_split(X, y, test_size=0.3, random_state =None)\n",
        "#Escalamiento\n",
        "escalar = StandardScaler()\n",
        "#Escalamiento de las variables “X” tanto de entrenamiento como de prueba, utilizaremos fit_transform\n",
        "X_train = escalar.fit_transform(X_train)\n",
        "X_test = escalar.transform(X_test)\n",
        "#Algoritmo\n",
        "algoritmo = LogisticRegression()"
      ],
      "metadata": {
        "id": "F1aDjfSPI08R"
      },
      "execution_count": 242,
      "outputs": []
    },
    {
      "cell_type": "code",
      "source": [
        "#Entrenamiento el modelo\n",
        "algoritmo.fit(X_train, y_train)\n",
        "y_pred = algoritmo.predict(X_test)\n",
        "y_pred"
      ],
      "metadata": {
        "colab": {
          "base_uri": "https://localhost:8080/"
        },
        "id": "wKUQI_pjUMYa",
        "outputId": "72ddf25f-ec79-4300-9a76-cfcf6cec30ba"
      },
      "execution_count": 243,
      "outputs": [
        {
          "output_type": "execute_result",
          "data": {
            "text/plain": [
              "array(['no', 'no', 'no', ..., 'no', 'no', 'no'], dtype=object)"
            ]
          },
          "metadata": {},
          "execution_count": 243
        }
      ]
    },
    {
      "cell_type": "code",
      "source": [
        "#Matriz de Confusión\n",
        "matriz = confusion_matrix(y_test, y_pred)\n",
        "print('Matriz de Confusión:')\n",
        "print(matriz)"
      ],
      "metadata": {
        "colab": {
          "base_uri": "https://localhost:8080/"
        },
        "id": "XLdtYKIyUNvR",
        "outputId": "f4208a7f-1e48-4575-9f22-2af1867df25d"
      },
      "execution_count": 244,
      "outputs": [
        {
          "output_type": "stream",
          "name": "stdout",
          "text": [
            "Matriz de Confusión:\n",
            "[[1888    0]\n",
            " [   1    0]]\n"
          ]
        }
      ]
    },
    {
      "cell_type": "code",
      "source": [
        "#Coeficientes\n",
        "sensibilidad = recall_score(y_test, y_pred, average=\"macro\")\n",
        "print('Sensibilidad del modelo:')\n",
        "print(sensibilidad)\n",
        "print()\n",
        "exactitud = accuracy_score(y_test, y_pred)\n",
        "print('Exactitud del modelo:')\n",
        "print(exactitud)\n",
        "print()\n",
        "precision = precision_score(y_test, y_pred, average=\"macro\")\n",
        "print('Precisión del modelo:')\n",
        "print(precision)\n",
        "print()\n",
        "puntajef1 = f1_score(y_test, y_pred, average=\"macro\")\n",
        "print('Puntaje F1 del modelo:')\n",
        "print(puntajef1)\n",
        "print()\n",
        "coeficientes.loc[0] = [round(precision,2),round(exactitud,2), round(sensibilidad,2), round(puntajef1,2)]"
      ],
      "metadata": {
        "colab": {
          "base_uri": "https://localhost:8080/"
        },
        "id": "eIqaLcqeUYch",
        "outputId": "148ea2f2-eb75-4049-fe2c-d733ca437ddb"
      },
      "execution_count": 245,
      "outputs": [
        {
          "output_type": "stream",
          "name": "stdout",
          "text": [
            "Sensibilidad del modelo:\n",
            "0.5\n",
            "\n",
            "Exactitud del modelo:\n",
            "0.9994706193753309\n",
            "\n",
            "Precisión del modelo:\n",
            "0.49973530968766544\n",
            "\n",
            "Puntaje F1 del modelo:\n",
            "0.4998676198040773\n",
            "\n"
          ]
        },
        {
          "output_type": "stream",
          "name": "stderr",
          "text": [
            "/usr/local/lib/python3.10/dist-packages/sklearn/metrics/_classification.py:1344: UndefinedMetricWarning: Precision is ill-defined and being set to 0.0 in labels with no predicted samples. Use `zero_division` parameter to control this behavior.\n",
            "  _warn_prf(average, modifier, msg_start, len(result))\n"
          ]
        }
      ]
    },
    {
      "cell_type": "markdown",
      "source": [
        "#Caso 2\n",
        "Status cuenta Corriente - Limite credito, porc_eng, score buro"
      ],
      "metadata": {
        "id": "3NVuKj5bIkNh"
      }
    },
    {
      "cell_type": "code",
      "source": [
        "df2=df.copy()\n",
        "df2['status_cuenta_Corriente'] = df2['status_cuenta_Corriente'].replace({1: 'yes', 0: 'no'})\n",
        "Vars_Indep= df2[['limite_credito', 'porc_eng', 'score_buro']]\n",
        "Var_Dep= df2['status_cuenta_Corriente']\n",
        "X= Vars_Indep\n",
        "y= Var_Dep\n",
        "\n",
        "#Split entrenamiento - prueba:\n",
        "X_train, X_test, y_train, y_test = train_test_split(X, y, test_size=0.3, random_state =None)\n",
        "#Escalamiento\n",
        "escalar = StandardScaler()\n",
        "#Escalamiento de las variables “X” tanto de entrenamiento como de prueba, utilizaremos fit_transform\n",
        "X_train = escalar.fit_transform(X_train)\n",
        "X_test = escalar.transform(X_test)\n",
        "#Algoritmo\n",
        "algoritmo = LogisticRegression()"
      ],
      "metadata": {
        "id": "7S5SYtzoaTST"
      },
      "execution_count": 246,
      "outputs": []
    },
    {
      "cell_type": "code",
      "source": [
        "#Entrenamiento el modelo\n",
        "algoritmo.fit(X_train, y_train)\n",
        "y_pred = algoritmo.predict(X_test)\n",
        "y_pred"
      ],
      "metadata": {
        "id": "vyi9QGiDaQxf",
        "colab": {
          "base_uri": "https://localhost:8080/"
        },
        "outputId": "0f07d28e-4592-4538-a933-a65f290d8258"
      },
      "execution_count": 247,
      "outputs": [
        {
          "output_type": "execute_result",
          "data": {
            "text/plain": [
              "array(['yes', 'yes', 'yes', ..., 'yes', 'yes', 'yes'], dtype=object)"
            ]
          },
          "metadata": {},
          "execution_count": 247
        }
      ]
    },
    {
      "cell_type": "code",
      "source": [
        "#Matriz de Confusión\n",
        "matriz = confusion_matrix(y_test, y_pred)\n",
        "print('Matriz de Confusión:')\n",
        "print(matriz)"
      ],
      "metadata": {
        "id": "rLGXsDBCaNgc",
        "colab": {
          "base_uri": "https://localhost:8080/"
        },
        "outputId": "e050ee7a-4ebd-459c-d17c-5dec12e67715"
      },
      "execution_count": 248,
      "outputs": [
        {
          "output_type": "stream",
          "name": "stdout",
          "text": [
            "Matriz de Confusión:\n",
            "[[   0  611]\n",
            " [   0 1278]]\n"
          ]
        }
      ]
    },
    {
      "cell_type": "code",
      "source": [
        "#Coeficientes\n",
        "sensibilidad = recall_score(y_test, y_pred, average=\"macro\")\n",
        "print('Sensibilidad del modelo:')\n",
        "print(sensibilidad)\n",
        "print()\n",
        "exactitud = accuracy_score(y_test, y_pred)\n",
        "print('Exactitud del modelo:')\n",
        "print(exactitud)\n",
        "print()\n",
        "precision = precision_score(y_test, y_pred, average=\"macro\")\n",
        "print('Precisión del modelo:')\n",
        "print(precision)\n",
        "print()\n",
        "puntajef1 = f1_score(y_test, y_pred, average=\"macro\")\n",
        "print('Puntaje F1 del modelo:')\n",
        "print(puntajef1)\n",
        "print()\n",
        "coeficientes.loc[1] = [round(precision,2),round(exactitud,2), round(sensibilidad,2), round(puntajef1,2)]"
      ],
      "metadata": {
        "id": "3302jaCGaNj3",
        "colab": {
          "base_uri": "https://localhost:8080/"
        },
        "outputId": "3fff2ced-bd33-4171-ea62-fb46e805f510"
      },
      "execution_count": 249,
      "outputs": [
        {
          "output_type": "stream",
          "name": "stdout",
          "text": [
            "Sensibilidad del modelo:\n",
            "0.5\n",
            "\n",
            "Exactitud del modelo:\n",
            "0.6765484383271573\n",
            "\n",
            "Precisión del modelo:\n",
            "0.33827421916357864\n",
            "\n",
            "Puntaje F1 del modelo:\n",
            "0.40353646984527947\n",
            "\n"
          ]
        },
        {
          "output_type": "stream",
          "name": "stderr",
          "text": [
            "/usr/local/lib/python3.10/dist-packages/sklearn/metrics/_classification.py:1344: UndefinedMetricWarning: Precision is ill-defined and being set to 0.0 in labels with no predicted samples. Use `zero_division` parameter to control this behavior.\n",
            "  _warn_prf(average, modifier, msg_start, len(result))\n"
          ]
        }
      ]
    },
    {
      "cell_type": "markdown",
      "source": [
        "#Caso 3\n",
        "Status cuenta Mora - Limite credito, porc_eng, score buro"
      ],
      "metadata": {
        "id": "yLPuZ9lgIksA"
      }
    },
    {
      "cell_type": "code",
      "source": [
        "df3=df.copy()\n",
        "df3['status_cuenta_Mora'] = df3['status_cuenta_Mora'].replace({1: 'yes', 0: 'no'})\n",
        "Vars_Indep= df3[['limite_credito', 'porc_eng', 'score_buro']]\n",
        "Var_Dep= df3['status_cuenta_Mora']\n",
        "X= Vars_Indep\n",
        "y= Var_Dep\n",
        "#Split entrenamiento - prueba:\n",
        "X_train, X_test, y_train, y_test = train_test_split(X, y, test_size=0.3, random_state =None)\n",
        "#Escalamiento\n",
        "escalar = StandardScaler()\n",
        "#Escalamiento de las variables “X” tanto de entrenamiento como de prueba, utilizaremos fit_transform\n",
        "X_train = escalar.fit_transform(X_train)\n",
        "X_test = escalar.transform(X_test)\n",
        "#Algoritmo\n",
        "algoritmo = LogisticRegression()"
      ],
      "metadata": {
        "id": "4arg4GrLad8u"
      },
      "execution_count": 250,
      "outputs": []
    },
    {
      "cell_type": "code",
      "source": [
        "#Entrenamiento el modelo\n",
        "algoritmo.fit(X_train, y_train)\n",
        "y_pred = algoritmo.predict(X_test)\n",
        "y_pred"
      ],
      "metadata": {
        "id": "qTZhrceBaeVK",
        "colab": {
          "base_uri": "https://localhost:8080/"
        },
        "outputId": "88f4112d-9639-4288-8b66-73c18b131f8b"
      },
      "execution_count": 251,
      "outputs": [
        {
          "output_type": "execute_result",
          "data": {
            "text/plain": [
              "array(['no', 'no', 'no', ..., 'no', 'no', 'no'], dtype=object)"
            ]
          },
          "metadata": {},
          "execution_count": 251
        }
      ]
    },
    {
      "cell_type": "code",
      "source": [
        "#Matriz de Confusión\n",
        "matriz = confusion_matrix(y_test, y_pred)\n",
        "print('Matriz de Confusión:')\n",
        "print(matriz)"
      ],
      "metadata": {
        "id": "kE66snfyaelu",
        "colab": {
          "base_uri": "https://localhost:8080/"
        },
        "outputId": "a9be1cca-d3b8-4876-85b8-d43b90cf8024"
      },
      "execution_count": 252,
      "outputs": [
        {
          "output_type": "stream",
          "name": "stdout",
          "text": [
            "Matriz de Confusión:\n",
            "[[1579    0]\n",
            " [ 310    0]]\n"
          ]
        }
      ]
    },
    {
      "cell_type": "code",
      "source": [
        "#Coeficientes\n",
        "sensibilidad = recall_score(y_test, y_pred, average=\"macro\")\n",
        "print('Sensibilidad del modelo:')\n",
        "print(sensibilidad)\n",
        "print()\n",
        "exactitud = accuracy_score(y_test, y_pred)\n",
        "print('Exactitud del modelo:')\n",
        "print(exactitud)\n",
        "print()\n",
        "precision = precision_score(y_test, y_pred, average=\"macro\")\n",
        "print('Precisión del modelo:')\n",
        "print(precision)\n",
        "print()\n",
        "puntajef1 = f1_score(y_test, y_pred, average=\"macro\")\n",
        "print('Puntaje F1 del modelo:')\n",
        "print(puntajef1)\n",
        "print()\n",
        "coeficientes.loc[2] = [round(precision,2),round(exactitud,2), round(sensibilidad,2), round(puntajef1,2)]"
      ],
      "metadata": {
        "id": "w9EkIqZWae4R",
        "colab": {
          "base_uri": "https://localhost:8080/"
        },
        "outputId": "6bdfa17c-3e01-4122-b850-21d7465766b8"
      },
      "execution_count": 253,
      "outputs": [
        {
          "output_type": "stream",
          "name": "stdout",
          "text": [
            "Sensibilidad del modelo:\n",
            "0.5\n",
            "\n",
            "Exactitud del modelo:\n",
            "0.8358920063525676\n",
            "\n",
            "Precisión del modelo:\n",
            "0.4179460031762838\n",
            "\n",
            "Puntaje F1 del modelo:\n",
            "0.45530565167243364\n",
            "\n"
          ]
        },
        {
          "output_type": "stream",
          "name": "stderr",
          "text": [
            "/usr/local/lib/python3.10/dist-packages/sklearn/metrics/_classification.py:1344: UndefinedMetricWarning: Precision is ill-defined and being set to 0.0 in labels with no predicted samples. Use `zero_division` parameter to control this behavior.\n",
            "  _warn_prf(average, modifier, msg_start, len(result))\n"
          ]
        }
      ]
    },
    {
      "cell_type": "markdown",
      "source": [
        "#Caso 4\n",
        "Plazo 26S - Limite credito, porc_eng, score buro"
      ],
      "metadata": {
        "id": "7kzC2i8xIlMB"
      }
    },
    {
      "cell_type": "code",
      "source": [
        "df4=df.copy()\n",
        "df4['plazo_26S'] = df4['plazo_26S'].replace({1: 'yes', 0: 'no'})\n",
        "Vars_Indep= df4[['limite_credito', 'porc_eng', 'score_buro']]\n",
        "Var_Dep= df4['plazo_26S']\n",
        "X= Vars_Indep\n",
        "y= Var_Dep\n",
        "#Split entrenamiento - prueba:\n",
        "X_train, X_test, y_train, y_test = train_test_split(X, y, test_size=0.3, random_state =None)\n",
        "#Escalamiento\n",
        "escalar = StandardScaler()\n",
        "#Escalamiento de las variables “X” tanto de entrenamiento como de prueba, utilizaremos fit_transform\n",
        "X_train = escalar.fit_transform(X_train)\n",
        "X_test = escalar.transform(X_test)\n",
        "#Algoritmo\n",
        "algoritmo = LogisticRegression()"
      ],
      "metadata": {
        "id": "3bEGkA7-amVf"
      },
      "execution_count": 254,
      "outputs": []
    },
    {
      "cell_type": "code",
      "source": [
        "#Entrenamiento el modelo\n",
        "algoritmo.fit(X_train, y_train)\n",
        "y_pred = algoritmo.predict(X_test)\n",
        "y_pred"
      ],
      "metadata": {
        "id": "Q1PqAmWFamnQ",
        "colab": {
          "base_uri": "https://localhost:8080/"
        },
        "outputId": "7a316998-99f7-4af2-e2cb-e1a5d6629ffa"
      },
      "execution_count": 255,
      "outputs": [
        {
          "output_type": "execute_result",
          "data": {
            "text/plain": [
              "array(['no', 'no', 'yes', ..., 'no', 'yes', 'no'], dtype=object)"
            ]
          },
          "metadata": {},
          "execution_count": 255
        }
      ]
    },
    {
      "cell_type": "code",
      "source": [
        "#Matriz de Confusión\n",
        "matriz = confusion_matrix(y_test, y_pred)\n",
        "print('Matriz de Confusión:')\n",
        "print(matriz)"
      ],
      "metadata": {
        "id": "MkdupdbaamtF",
        "colab": {
          "base_uri": "https://localhost:8080/"
        },
        "outputId": "03a6e7c8-16b9-40af-a9e1-055e4d4ca239"
      },
      "execution_count": 256,
      "outputs": [
        {
          "output_type": "stream",
          "name": "stdout",
          "text": [
            "Matriz de Confusión:\n",
            "[[286 597]\n",
            " [296 710]]\n"
          ]
        }
      ]
    },
    {
      "cell_type": "code",
      "source": [
        "#Coeficientes\n",
        "sensibilidad = recall_score(y_test, y_pred, average=\"macro\")\n",
        "print('Sensibilidad del modelo:')\n",
        "print(sensibilidad)\n",
        "print()\n",
        "exactitud = accuracy_score(y_test, y_pred)\n",
        "print('Exactitud del modelo:')\n",
        "print(exactitud)\n",
        "print()\n",
        "precision = precision_score(y_test, y_pred, average=\"macro\")\n",
        "print('Precisión del modelo:')\n",
        "print(precision)\n",
        "print()\n",
        "puntajef1 = f1_score(y_test, y_pred, average=\"macro\")\n",
        "print('Puntaje F1 del modelo:')\n",
        "print(puntajef1)\n",
        "print()\n",
        "coeficientes.loc[2] = [round(precision,2),round(exactitud,2), round(sensibilidad,2), round(puntajef1,2)]"
      ],
      "metadata": {
        "id": "K_O5lv2ganCg",
        "colab": {
          "base_uri": "https://localhost:8080/"
        },
        "outputId": "fab3bbfe-9039-4587-f01e-e41f61271a67"
      },
      "execution_count": 257,
      "outputs": [
        {
          "output_type": "stream",
          "name": "stdout",
          "text": [
            "Sensibilidad del modelo:\n",
            "0.5148306086470982\n",
            "\n",
            "Exactitud del modelo:\n",
            "0.5272631021704606\n",
            "\n",
            "Precisión del modelo:\n",
            "0.5173188514396443\n",
            "\n",
            "Puntaje F1 del modelo:\n",
            "0.5021825001586226\n",
            "\n"
          ]
        }
      ]
    },
    {
      "cell_type": "markdown",
      "source": [
        "#Caso 5\n",
        "Plazo 39S - Limite credito, porc_eng, score buro"
      ],
      "metadata": {
        "id": "Lxppn42FIl5N"
      }
    },
    {
      "cell_type": "code",
      "source": [
        "df5=df.copy()\n",
        "df5['plazo_39S'] = df5['plazo_39S'].replace({1: 'yes', 0: 'no'})\n",
        "Vars_Indep= df5[['limite_credito', 'porc_eng', 'score_buro']]\n",
        "Var_Dep= df5['plazo_39S']\n",
        "X= Vars_Indep\n",
        "y= Var_Dep\n",
        "#Split entrenamiento - prueba:\n",
        "X_train, X_test, y_train, y_test = train_test_split(X, y, test_size=0.3, random_state =None)\n",
        "#Escalamiento\n",
        "escalar = StandardScaler()\n",
        "#Escalamiento de las variables “X” tanto de entrenamiento como de prueba, utilizaremos fit_transform\n",
        "X_train = escalar.fit_transform(X_train)\n",
        "X_test = escalar.transform(X_test)\n",
        "#Algoritmo\n",
        "algoritmo = LogisticRegression()"
      ],
      "metadata": {
        "id": "AOmUFYtcavw6"
      },
      "execution_count": 258,
      "outputs": []
    },
    {
      "cell_type": "code",
      "source": [
        "#Entrenamiento el modelo\n",
        "algoritmo.fit(X_train, y_train)\n",
        "y_pred = algoritmo.predict(X_test)\n",
        "y_pred"
      ],
      "metadata": {
        "id": "dlLgrtU0awHT",
        "colab": {
          "base_uri": "https://localhost:8080/"
        },
        "outputId": "c95de4d5-1b7c-4bb5-ff5c-d2669f00d302"
      },
      "execution_count": 259,
      "outputs": [
        {
          "output_type": "execute_result",
          "data": {
            "text/plain": [
              "array(['no', 'no', 'no', ..., 'no', 'no', 'no'], dtype=object)"
            ]
          },
          "metadata": {},
          "execution_count": 259
        }
      ]
    },
    {
      "cell_type": "code",
      "source": [
        "#Matriz de Confusión\n",
        "matriz = confusion_matrix(y_test, y_pred)\n",
        "print('Matriz de Confusión:')\n",
        "print(matriz)"
      ],
      "metadata": {
        "id": "r6iD8P5XawJ3",
        "colab": {
          "base_uri": "https://localhost:8080/"
        },
        "outputId": "47c6ef9f-49a5-4ed1-ae1d-c35c5ce0274c"
      },
      "execution_count": 260,
      "outputs": [
        {
          "output_type": "stream",
          "name": "stdout",
          "text": [
            "Matriz de Confusión:\n",
            "[[1446    0]\n",
            " [ 443    0]]\n"
          ]
        }
      ]
    },
    {
      "cell_type": "code",
      "source": [
        "#Coeficientes\n",
        "sensibilidad = recall_score(y_test, y_pred, average=\"macro\")\n",
        "print('Sensibilidad del modelo:')\n",
        "print(sensibilidad)\n",
        "print()\n",
        "exactitud = accuracy_score(y_test, y_pred)\n",
        "print('Exactitud del modelo:')\n",
        "print(exactitud)\n",
        "print()\n",
        "precision = precision_score(y_test, y_pred, average=\"macro\")\n",
        "print('Precisión del modelo:')\n",
        "print(precision)\n",
        "print()\n",
        "puntajef1 = f1_score(y_test, y_pred, average=\"macro\")\n",
        "print('Puntaje F1 del modelo:')\n",
        "print(puntajef1)\n",
        "print()\n",
        "coeficientes.loc[4] = [round(precision,2),round(exactitud,2), round(sensibilidad,2), round(puntajef1,2)]\n"
      ],
      "metadata": {
        "id": "Vl9lrwLoawia",
        "colab": {
          "base_uri": "https://localhost:8080/"
        },
        "outputId": "10147384-0f1c-4982-ae54-a43fe419c286"
      },
      "execution_count": 261,
      "outputs": [
        {
          "output_type": "stream",
          "name": "stdout",
          "text": [
            "Sensibilidad del modelo:\n",
            "0.5\n",
            "\n",
            "Exactitud del modelo:\n",
            "0.7654843832715723\n",
            "\n",
            "Precisión del modelo:\n",
            "0.38274219163578616\n",
            "\n",
            "Puntaje F1 del modelo:\n",
            "0.4335832083958021\n",
            "\n"
          ]
        },
        {
          "output_type": "stream",
          "name": "stderr",
          "text": [
            "/usr/local/lib/python3.10/dist-packages/sklearn/metrics/_classification.py:1344: UndefinedMetricWarning: Precision is ill-defined and being set to 0.0 in labels with no predicted samples. Use `zero_division` parameter to control this behavior.\n",
            "  _warn_prf(average, modifier, msg_start, len(result))\n"
          ]
        }
      ]
    },
    {
      "cell_type": "markdown",
      "source": [
        "#Caso 6\n",
        "Plazo 52S - Limite credito, porc_eng, score buro"
      ],
      "metadata": {
        "id": "-ANDUlUpImT2"
      }
    },
    {
      "cell_type": "code",
      "source": [
        "df6=df.copy()\n",
        "df6['plazo_52S'] = df6['plazo_52S'].replace({1: 'yes', 0: 'no'})\n",
        "Vars_Indep= df6[['limite_credito', 'porc_eng', 'score_buro']]\n",
        "Var_Dep= df6['plazo_52S']\n",
        "X= Vars_Indep\n",
        "y= Var_Dep\n",
        "#Split entrenamiento - prueba:\n",
        "X_train, X_test, y_train, y_test = train_test_split(X, y, test_size=0.3, random_state =None)\n",
        "#Escalamiento\n",
        "escalar = StandardScaler()\n",
        "#Escalamiento de las variables “X” tanto de entrenamiento como de prueba, utilizaremos fit_transform\n",
        "X_train = escalar.fit_transform(X_train)\n",
        "X_test = escalar.transform(X_test)\n",
        "#Algoritmo\n",
        "algoritmo = LogisticRegression()"
      ],
      "metadata": {
        "id": "TvQQuB9sat6X"
      },
      "execution_count": 262,
      "outputs": []
    },
    {
      "cell_type": "code",
      "source": [
        "#Entrenamiento el modelo\n",
        "algoritmo.fit(X_train, y_train)\n",
        "y_pred = algoritmo.predict(X_test)\n",
        "y_pred"
      ],
      "metadata": {
        "id": "Dqk_rF_7auQx",
        "colab": {
          "base_uri": "https://localhost:8080/"
        },
        "outputId": "cfdad609-1a91-474d-e4b6-8e88465d5039"
      },
      "execution_count": 263,
      "outputs": [
        {
          "output_type": "execute_result",
          "data": {
            "text/plain": [
              "array(['no', 'no', 'no', ..., 'no', 'no', 'no'], dtype=object)"
            ]
          },
          "metadata": {},
          "execution_count": 263
        }
      ]
    },
    {
      "cell_type": "code",
      "source": [
        "#Matriz de Confusión\n",
        "matriz = confusion_matrix(y_test, y_pred)\n",
        "print('Matriz de Confusión:')\n",
        "print(matriz)"
      ],
      "metadata": {
        "id": "qLDhNLHCauU4",
        "colab": {
          "base_uri": "https://localhost:8080/"
        },
        "outputId": "33d48010-c9ab-4754-c77c-e0d802f45d66"
      },
      "execution_count": 264,
      "outputs": [
        {
          "output_type": "stream",
          "name": "stdout",
          "text": [
            "Matriz de Confusión:\n",
            "[[1888    0]\n",
            " [   1    0]]\n"
          ]
        }
      ]
    },
    {
      "cell_type": "code",
      "source": [
        "#Coeficientes\n",
        "sensibilidad = recall_score(y_test, y_pred, average=\"macro\")\n",
        "print('Sensibilidad del modelo:')\n",
        "print(sensibilidad)\n",
        "print()\n",
        "exactitud = accuracy_score(y_test, y_pred)\n",
        "print('Exactitud del modelo:')\n",
        "print(exactitud)\n",
        "print()\n",
        "precision = precision_score(y_test, y_pred, average=\"macro\")\n",
        "print('Precisión del modelo:')\n",
        "print(precision)\n",
        "print()\n",
        "puntajef1 = f1_score(y_test, y_pred, average=\"macro\")\n",
        "print('Puntaje F1 del modelo:')\n",
        "print(puntajef1)\n",
        "print()\n",
        "coeficientes.loc[5] = [round(precision,2),round(exactitud,2), round(sensibilidad,2), round(puntajef1,2)]"
      ],
      "metadata": {
        "id": "M8IweQUUauth",
        "colab": {
          "base_uri": "https://localhost:8080/"
        },
        "outputId": "4946bdb2-35cf-497a-eccd-189f094ef36a"
      },
      "execution_count": 265,
      "outputs": [
        {
          "output_type": "stream",
          "name": "stdout",
          "text": [
            "Sensibilidad del modelo:\n",
            "0.5\n",
            "\n",
            "Exactitud del modelo:\n",
            "0.9994706193753309\n",
            "\n",
            "Precisión del modelo:\n",
            "0.49973530968766544\n",
            "\n",
            "Puntaje F1 del modelo:\n",
            "0.4998676198040773\n",
            "\n"
          ]
        },
        {
          "output_type": "stream",
          "name": "stderr",
          "text": [
            "/usr/local/lib/python3.10/dist-packages/sklearn/metrics/_classification.py:1344: UndefinedMetricWarning: Precision is ill-defined and being set to 0.0 in labels with no predicted samples. Use `zero_division` parameter to control this behavior.\n",
            "  _warn_prf(average, modifier, msg_start, len(result))\n"
          ]
        }
      ]
    },
    {
      "cell_type": "markdown",
      "source": [
        "#Caso 7\n",
        "Plazo 13S - Limite credito, porc_eng, score buro"
      ],
      "metadata": {
        "id": "6J7hcBTwImz-"
      }
    },
    {
      "cell_type": "code",
      "source": [
        "df7=df.copy()\n",
        "df7['plazo_13S'] = df7['plazo_13S'].replace({1: 'yes', 0: 'no'})\n",
        "Vars_Indep= df7[['limite_credito', 'porc_eng', 'score_buro']]\n",
        "Var_Dep= df7['plazo_13S']\n",
        "X= Vars_Indep\n",
        "y= Var_Dep\n",
        "#Split entrenamiento - prueba:\n",
        "X_train, X_test, y_train, y_test = train_test_split(X, y, test_size=0.3, random_state =None)\n",
        "#Escalamiento\n",
        "escalar = StandardScaler()\n",
        "#Escalamiento de las variables “X” tanto de entrenamiento como de prueba, utilizaremos fit_transform\n",
        "X_train = escalar.fit_transform(X_train)\n",
        "X_test = escalar.transform(X_test)\n",
        "#Algoritmo\n",
        "algoritmo = LogisticRegression()"
      ],
      "metadata": {
        "id": "8BWVnACuaseZ"
      },
      "execution_count": 266,
      "outputs": []
    },
    {
      "cell_type": "code",
      "source": [
        "# Encontrar valores únicos en 'Columna1'\n",
        "valores_unicos_columna1 = df7['fraude'].unique()\n",
        "print(\"Valores únicos en fraude:\", valores_unicos_columna1)\n"
      ],
      "metadata": {
        "colab": {
          "base_uri": "https://localhost:8080/"
        },
        "id": "ABtdOlOJLTeW",
        "outputId": "c0698a9e-3f4b-4e48-a8df-ed7e510abe94"
      },
      "execution_count": 267,
      "outputs": [
        {
          "output_type": "stream",
          "name": "stdout",
          "text": [
            "Valores únicos en fraude: [0]\n"
          ]
        }
      ]
    },
    {
      "cell_type": "code",
      "source": [
        "#Entrenamiento el modelo\n",
        "algoritmo.fit(X_train, y_train)\n",
        "y_pred = algoritmo.predict(X_test)\n",
        "y_pred"
      ],
      "metadata": {
        "id": "_WLhDwb-asm8",
        "colab": {
          "base_uri": "https://localhost:8080/"
        },
        "outputId": "59425fae-d6ee-4947-d53e-973e176bae0f"
      },
      "execution_count": 268,
      "outputs": [
        {
          "output_type": "execute_result",
          "data": {
            "text/plain": [
              "array(['no', 'no', 'no', ..., 'no', 'no', 'no'], dtype=object)"
            ]
          },
          "metadata": {},
          "execution_count": 268
        }
      ]
    },
    {
      "cell_type": "code",
      "source": [
        "#Matriz de Confusión\n",
        "matriz = confusion_matrix(y_test, y_pred)\n",
        "print('Matriz de Confusión:')\n",
        "print(matriz)"
      ],
      "metadata": {
        "id": "0VUC4CpRas0d",
        "colab": {
          "base_uri": "https://localhost:8080/"
        },
        "outputId": "19f261fe-3aa0-4560-e6dc-3428985cb7d2"
      },
      "execution_count": 269,
      "outputs": [
        {
          "output_type": "stream",
          "name": "stdout",
          "text": [
            "Matriz de Confusión:\n",
            "[[1441    0]\n",
            " [ 446    2]]\n"
          ]
        }
      ]
    },
    {
      "cell_type": "code",
      "source": [
        "#Coeficientes\n",
        "sensibilidad = recall_score(y_test, y_pred, average=\"macro\")\n",
        "print('Sensibilidad del modelo:')\n",
        "print(sensibilidad)\n",
        "print()\n",
        "exactitud = accuracy_score(y_test, y_pred)\n",
        "print('Exactitud del modelo:')\n",
        "print(exactitud)\n",
        "print()\n",
        "precision = precision_score(y_test, y_pred, average=\"macro\")\n",
        "print('Precisión del modelo:')\n",
        "print(precision)\n",
        "print()\n",
        "puntajef1 = f1_score(y_test, y_pred, average=\"macro\")\n",
        "print('Puntaje F1 del modelo:')\n",
        "print(puntajef1)\n",
        "print()\n",
        "coeficientes.loc[6] = [round(precision,2),round(exactitud,2), round(sensibilidad,2), round(puntajef1,2)]"
      ],
      "metadata": {
        "id": "Rpz5k5FEIuVF",
        "colab": {
          "base_uri": "https://localhost:8080/"
        },
        "outputId": "873dccb8-86ef-4eb9-e75e-b05ae3f8da10"
      },
      "execution_count": 270,
      "outputs": [
        {
          "output_type": "stream",
          "name": "stdout",
          "text": [
            "Sensibilidad del modelo:\n",
            "0.5022321428571429\n",
            "\n",
            "Exactitud del modelo:\n",
            "0.7638962413975648\n",
            "\n",
            "Precisión del modelo:\n",
            "0.8818229994700583\n",
            "\n",
            "Puntaje F1 del modelo:\n",
            "0.43743723290598285\n",
            "\n"
          ]
        }
      ]
    },
    {
      "cell_type": "markdown",
      "source": [
        "#Caso 8\n",
        "Status3 - Limite credito, porc_eng, score buro"
      ],
      "metadata": {
        "id": "8u_dALoIIuw6"
      }
    },
    {
      "cell_type": "code",
      "source": [
        "df8=df.copy()\n",
        "df8['status_3'] = df8['status_3'].replace({1: 'yes', 0: 'no'})\n",
        "Vars_Indep= df8[['limite_credito', 'porc_eng', 'score_buro']]\n",
        "Var_Dep= df8['status_3']\n",
        "X= Vars_Indep\n",
        "y= Var_Dep\n",
        "#Split entrenamiento - prueba:\n",
        "X_train, X_test, y_train, y_test = train_test_split(X, y, test_size=0.3, random_state =None)\n",
        "#Escalamiento\n",
        "escalar = StandardScaler()\n",
        "#Escalamiento de las variables “X” tanto de entrenamiento como de prueba, utilizaremos fit_transform\n",
        "X_train = escalar.fit_transform(X_train)\n",
        "X_test = escalar.transform(X_test)\n",
        "#Algoritmo\n",
        "algoritmo = LogisticRegression()"
      ],
      "metadata": {
        "id": "VU1b9CiNaq2-"
      },
      "execution_count": 271,
      "outputs": []
    },
    {
      "cell_type": "code",
      "source": [
        "#Entrenamiento el modelo\n",
        "algoritmo.fit(X_train, y_train)\n",
        "y_pred = algoritmo.predict(X_test)\n",
        "y_pred"
      ],
      "metadata": {
        "id": "OKuG9GSlaq4u",
        "colab": {
          "base_uri": "https://localhost:8080/"
        },
        "outputId": "59e3b5d2-d266-4e08-8527-3eeb16b3f547"
      },
      "execution_count": 272,
      "outputs": [
        {
          "output_type": "execute_result",
          "data": {
            "text/plain": [
              "array(['no', 'no', 'no', ..., 'no', 'no', 'no'], dtype=object)"
            ]
          },
          "metadata": {},
          "execution_count": 272
        }
      ]
    },
    {
      "cell_type": "code",
      "source": [
        "#Matriz de Confusión\n",
        "matriz = confusion_matrix(y_test, y_pred)\n",
        "print('Matriz de Confusión:')\n",
        "print(matriz)"
      ],
      "metadata": {
        "id": "xNNGdSVZaq6V",
        "colab": {
          "base_uri": "https://localhost:8080/"
        },
        "outputId": "d20f96d4-3875-4129-cdf2-fb5c65ce7195"
      },
      "execution_count": 273,
      "outputs": [
        {
          "output_type": "stream",
          "name": "stdout",
          "text": [
            "Matriz de Confusión:\n",
            "[[1887    0]\n",
            " [   2    0]]\n"
          ]
        }
      ]
    },
    {
      "cell_type": "code",
      "source": [
        "#Coeficientes\n",
        "sensibilidad = recall_score(y_test, y_pred, average=\"macro\")\n",
        "print('Sensibilidad del modelo:')\n",
        "print(sensibilidad)\n",
        "print()\n",
        "exactitud = accuracy_score(y_test, y_pred)\n",
        "print('Exactitud del modelo:')\n",
        "print(exactitud)\n",
        "print()\n",
        "precision = precision_score(y_test, y_pred, average=\"macro\")\n",
        "print('Precisión del modelo:')\n",
        "print(precision)\n",
        "print()\n",
        "puntajef1 = f1_score(y_test, y_pred, average=\"macro\")\n",
        "print('Puntaje F1 del modelo:')\n",
        "print(puntajef1)\n",
        "print()\n",
        "coeficientes.loc[7] = [round(precision,2),round(exactitud,2), round(sensibilidad,2), round(puntajef1,2)]"
      ],
      "metadata": {
        "id": "g2_YL9g9aq8K",
        "colab": {
          "base_uri": "https://localhost:8080/"
        },
        "outputId": "92b5fb51-24d6-4316-f494-c47b1dd8b7cc"
      },
      "execution_count": 274,
      "outputs": [
        {
          "output_type": "stream",
          "name": "stdout",
          "text": [
            "Sensibilidad del modelo:\n",
            "0.5\n",
            "\n",
            "Exactitud del modelo:\n",
            "0.9989412387506618\n",
            "\n",
            "Precisión del modelo:\n",
            "0.4994706193753309\n",
            "\n",
            "Puntaje F1 del modelo:\n",
            "0.4997351694915254\n",
            "\n"
          ]
        },
        {
          "output_type": "stream",
          "name": "stderr",
          "text": [
            "/usr/local/lib/python3.10/dist-packages/sklearn/metrics/_classification.py:1344: UndefinedMetricWarning: Precision is ill-defined and being set to 0.0 in labels with no predicted samples. Use `zero_division` parameter to control this behavior.\n",
            "  _warn_prf(average, modifier, msg_start, len(result))\n"
          ]
        }
      ]
    },
    {
      "cell_type": "markdown",
      "source": [
        "#Caso 9\n",
        "Status2 - Limite credito, porc_eng, score buro"
      ],
      "metadata": {
        "id": "KoiDfCtZIvnz"
      }
    },
    {
      "cell_type": "code",
      "source": [
        "df9=df.copy()\n",
        "df9['status_2'] = df9['status_2'].replace({1: 'yes', 0: 'no'})\n",
        "Vars_Indep= df9[['limite_credito', 'porc_eng', 'score_buro']]\n",
        "Var_Dep= df9['status_2']\n",
        "X= Vars_Indep\n",
        "y= Var_Dep\n",
        "#Split entrenamiento - prueba:\n",
        "X_train, X_test, y_train, y_test = train_test_split(X, y, test_size=0.3, random_state =None)\n",
        "#Escalamiento\n",
        "escalar = StandardScaler()\n",
        "#Escalamiento de las variables “X” tanto de entrenamiento como de prueba, utilizaremos fit_transform\n",
        "X_train = escalar.fit_transform(X_train)\n",
        "X_test = escalar.transform(X_test)\n",
        "#Algoritmo\n",
        "algoritmo = LogisticRegression()"
      ],
      "metadata": {
        "id": "7xa6LUhxap1b"
      },
      "execution_count": 275,
      "outputs": []
    },
    {
      "cell_type": "code",
      "source": [
        "#Entrenamiento el modelo\n",
        "algoritmo.fit(X_train, y_train)\n",
        "y_pred = algoritmo.predict(X_test)\n",
        "y_pred"
      ],
      "metadata": {
        "id": "0hnAoZm4ap3Y",
        "colab": {
          "base_uri": "https://localhost:8080/"
        },
        "outputId": "ceb9a0ae-7d7a-49b9-9c64-98a37e3cc71d"
      },
      "execution_count": 276,
      "outputs": [
        {
          "output_type": "execute_result",
          "data": {
            "text/plain": [
              "array(['no', 'no', 'no', ..., 'no', 'no', 'no'], dtype=object)"
            ]
          },
          "metadata": {},
          "execution_count": 276
        }
      ]
    },
    {
      "cell_type": "code",
      "source": [
        "#Matriz de Confusión\n",
        "matriz = confusion_matrix(y_test, y_pred)\n",
        "print('Matriz de Confusión:')\n",
        "print(matriz)"
      ],
      "metadata": {
        "id": "4CkPG72Vap5t",
        "colab": {
          "base_uri": "https://localhost:8080/"
        },
        "outputId": "46e231c0-9983-46a9-d388-30aa9321adae"
      },
      "execution_count": 277,
      "outputs": [
        {
          "output_type": "stream",
          "name": "stdout",
          "text": [
            "Matriz de Confusión:\n",
            "[[1662    0]\n",
            " [ 227    0]]\n"
          ]
        }
      ]
    },
    {
      "cell_type": "code",
      "source": [
        "#Coeficientes\n",
        "sensibilidad = recall_score(y_test, y_pred, average=\"macro\")\n",
        "print('Sensibilidad del modelo:')\n",
        "print(sensibilidad)\n",
        "print()\n",
        "exactitud = accuracy_score(y_test, y_pred)\n",
        "print('Exactitud del modelo:')\n",
        "print(exactitud)\n",
        "print()\n",
        "precision = precision_score(y_test, y_pred, average=\"macro\")\n",
        "print('Precisión del modelo:')\n",
        "print(precision)\n",
        "print()\n",
        "puntajef1 = f1_score(y_test, y_pred, average=\"macro\")\n",
        "print('Puntaje F1 del modelo:')\n",
        "print(puntajef1)\n",
        "print()\n",
        "coeficientes.loc[8] = [round(precision,2),round(exactitud,2), round(sensibilidad,2), round(puntajef1,2)]"
      ],
      "metadata": {
        "id": "JVLvxXoaap7W",
        "colab": {
          "base_uri": "https://localhost:8080/"
        },
        "outputId": "6d7aa871-899f-44c2-dc75-bed53acc9b4d"
      },
      "execution_count": 278,
      "outputs": [
        {
          "output_type": "stream",
          "name": "stdout",
          "text": [
            "Sensibilidad del modelo:\n",
            "0.5\n",
            "\n",
            "Exactitud del modelo:\n",
            "0.8798305982001059\n",
            "\n",
            "Precisión del modelo:\n",
            "0.43991529910005295\n",
            "\n",
            "Puntaje F1 del modelo:\n",
            "0.4680371726274289\n",
            "\n"
          ]
        },
        {
          "output_type": "stream",
          "name": "stderr",
          "text": [
            "/usr/local/lib/python3.10/dist-packages/sklearn/metrics/_classification.py:1344: UndefinedMetricWarning: Precision is ill-defined and being set to 0.0 in labels with no predicted samples. Use `zero_division` parameter to control this behavior.\n",
            "  _warn_prf(average, modifier, msg_start, len(result))\n"
          ]
        }
      ]
    },
    {
      "cell_type": "markdown",
      "source": [
        "#Caso 10\n",
        "Status 1 - Limite credito, porc_eng, score buro"
      ],
      "metadata": {
        "id": "m57O0lPVIwPb"
      }
    },
    {
      "cell_type": "code",
      "source": [
        "df10=df.copy()\n",
        "df10['status_1'] = df10['status_1'].replace({1: 'yes', 0: 'no'})\n",
        "Vars_Indep= df10[['limite_credito', 'porc_eng', 'score_buro']]\n",
        "Var_Dep= df10['status_1']\n",
        "X= Vars_Indep\n",
        "y= Var_Dep\n",
        "#Split entrenamiento - prueba:\n",
        "X_train, X_test, y_train, y_test = train_test_split(X, y, test_size=0.3, random_state =None)\n",
        "#Escalamiento\n",
        "escalar = StandardScaler()\n",
        "#Escalamiento de las variables “X” tanto de entrenamiento como de prueba, utilizaremos fit_transform\n",
        "X_train = escalar.fit_transform(X_train)\n",
        "X_test = escalar.transform(X_test)\n",
        "#Algoritmo\n",
        "algoritmo = LogisticRegression()"
      ],
      "metadata": {
        "id": "6CHlprcaao29"
      },
      "execution_count": 279,
      "outputs": []
    },
    {
      "cell_type": "code",
      "source": [
        "#Entrenamiento el modelo\n",
        "algoritmo.fit(X_train, y_train)\n",
        "y_pred = algoritmo.predict(X_test)\n",
        "y_pred"
      ],
      "metadata": {
        "id": "QwG3IQ5wao5h",
        "colab": {
          "base_uri": "https://localhost:8080/"
        },
        "outputId": "a348c3b8-c6be-4b2d-98c2-769c413423b1"
      },
      "execution_count": 280,
      "outputs": [
        {
          "output_type": "execute_result",
          "data": {
            "text/plain": [
              "array(['yes', 'yes', 'yes', ..., 'yes', 'yes', 'yes'], dtype=object)"
            ]
          },
          "metadata": {},
          "execution_count": 280
        }
      ]
    },
    {
      "cell_type": "code",
      "source": [
        "#Matriz de Confusión\n",
        "matriz = confusion_matrix(y_test, y_pred)\n",
        "print('Matriz de Confusión:')\n",
        "print(matriz)"
      ],
      "metadata": {
        "id": "onw7GXqcao7f",
        "colab": {
          "base_uri": "https://localhost:8080/"
        },
        "outputId": "36332907-0e5e-4f12-f1cc-e6c2a10f3b86"
      },
      "execution_count": 281,
      "outputs": [
        {
          "output_type": "stream",
          "name": "stdout",
          "text": [
            "Matriz de Confusión:\n",
            "[[   0  224]\n",
            " [   0 1665]]\n"
          ]
        }
      ]
    },
    {
      "cell_type": "code",
      "source": [
        "#Coeficientes\n",
        "sensibilidad = recall_score(y_test, y_pred, average=\"macro\")\n",
        "print('Sensibilidad del modelo:')\n",
        "print(sensibilidad)\n",
        "print()\n",
        "exactitud = accuracy_score(y_test, y_pred)\n",
        "print('Exactitud del modelo:')\n",
        "print(exactitud)\n",
        "print()\n",
        "precision = precision_score(y_test, y_pred, average=\"macro\")\n",
        "print('Precisión del modelo:')\n",
        "print(precision)\n",
        "print()\n",
        "puntajef1 = f1_score(y_test, y_pred, average=\"macro\")\n",
        "print('Puntaje F1 del modelo:')\n",
        "print(puntajef1)\n",
        "print()\n",
        "coeficientes.loc[9] = [round(precision,2),round(exactitud,2), round(sensibilidad,2), round(puntajef1,2)]"
      ],
      "metadata": {
        "id": "eDp_51b_ao9M",
        "colab": {
          "base_uri": "https://localhost:8080/"
        },
        "outputId": "60657fc7-41b0-4c32-81e0-85d20a55561b"
      },
      "execution_count": 282,
      "outputs": [
        {
          "output_type": "stream",
          "name": "stdout",
          "text": [
            "Sensibilidad del modelo:\n",
            "0.5\n",
            "\n",
            "Exactitud del modelo:\n",
            "0.8814187400741132\n",
            "\n",
            "Precisión del modelo:\n",
            "0.4407093700370566\n",
            "\n",
            "Puntaje F1 del modelo:\n",
            "0.4684862127180642\n",
            "\n"
          ]
        },
        {
          "output_type": "stream",
          "name": "stderr",
          "text": [
            "/usr/local/lib/python3.10/dist-packages/sklearn/metrics/_classification.py:1344: UndefinedMetricWarning: Precision is ill-defined and being set to 0.0 in labels with no predicted samples. Use `zero_division` parameter to control this behavior.\n",
            "  _warn_prf(average, modifier, msg_start, len(result))\n"
          ]
        }
      ]
    },
    {
      "cell_type": "markdown",
      "source": [
        "#Tabla de coeficientes"
      ],
      "metadata": {
        "id": "3joQuA5zIXNW"
      }
    },
    {
      "cell_type": "code",
      "source": [
        "coeficientes"
      ],
      "metadata": {
        "colab": {
          "base_uri": "https://localhost:8080/",
          "height": 331
        },
        "id": "rYNl7m7QIY4G",
        "outputId": "8ab2e463-0471-4c93-ba20-d00d26e4b8ba"
      },
      "execution_count": 283,
      "outputs": [
        {
          "output_type": "execute_result",
          "data": {
            "text/plain": [
              "   Precisión  Exactitud  Sensibilidad    F1\n",
              "0       0.50       1.00          0.50  0.50\n",
              "1       0.34       0.68          0.50  0.40\n",
              "2       0.52       0.53          0.51  0.50\n",
              "4       0.38       0.77          0.50  0.43\n",
              "5       0.50       1.00          0.50  0.50\n",
              "6       0.88       0.76          0.50  0.44\n",
              "7       0.50       1.00          0.50  0.50\n",
              "8       0.44       0.88          0.50  0.47\n",
              "9       0.44       0.88          0.50  0.47"
            ],
            "text/html": [
              "\n",
              "  <div id=\"df-df330ab3-6c6d-463e-963f-c23ea82eaf5d\" class=\"colab-df-container\">\n",
              "    <div>\n",
              "<style scoped>\n",
              "    .dataframe tbody tr th:only-of-type {\n",
              "        vertical-align: middle;\n",
              "    }\n",
              "\n",
              "    .dataframe tbody tr th {\n",
              "        vertical-align: top;\n",
              "    }\n",
              "\n",
              "    .dataframe thead th {\n",
              "        text-align: right;\n",
              "    }\n",
              "</style>\n",
              "<table border=\"1\" class=\"dataframe\">\n",
              "  <thead>\n",
              "    <tr style=\"text-align: right;\">\n",
              "      <th></th>\n",
              "      <th>Precisión</th>\n",
              "      <th>Exactitud</th>\n",
              "      <th>Sensibilidad</th>\n",
              "      <th>F1</th>\n",
              "    </tr>\n",
              "  </thead>\n",
              "  <tbody>\n",
              "    <tr>\n",
              "      <th>0</th>\n",
              "      <td>0.50</td>\n",
              "      <td>1.00</td>\n",
              "      <td>0.50</td>\n",
              "      <td>0.50</td>\n",
              "    </tr>\n",
              "    <tr>\n",
              "      <th>1</th>\n",
              "      <td>0.34</td>\n",
              "      <td>0.68</td>\n",
              "      <td>0.50</td>\n",
              "      <td>0.40</td>\n",
              "    </tr>\n",
              "    <tr>\n",
              "      <th>2</th>\n",
              "      <td>0.52</td>\n",
              "      <td>0.53</td>\n",
              "      <td>0.51</td>\n",
              "      <td>0.50</td>\n",
              "    </tr>\n",
              "    <tr>\n",
              "      <th>4</th>\n",
              "      <td>0.38</td>\n",
              "      <td>0.77</td>\n",
              "      <td>0.50</td>\n",
              "      <td>0.43</td>\n",
              "    </tr>\n",
              "    <tr>\n",
              "      <th>5</th>\n",
              "      <td>0.50</td>\n",
              "      <td>1.00</td>\n",
              "      <td>0.50</td>\n",
              "      <td>0.50</td>\n",
              "    </tr>\n",
              "    <tr>\n",
              "      <th>6</th>\n",
              "      <td>0.88</td>\n",
              "      <td>0.76</td>\n",
              "      <td>0.50</td>\n",
              "      <td>0.44</td>\n",
              "    </tr>\n",
              "    <tr>\n",
              "      <th>7</th>\n",
              "      <td>0.50</td>\n",
              "      <td>1.00</td>\n",
              "      <td>0.50</td>\n",
              "      <td>0.50</td>\n",
              "    </tr>\n",
              "    <tr>\n",
              "      <th>8</th>\n",
              "      <td>0.44</td>\n",
              "      <td>0.88</td>\n",
              "      <td>0.50</td>\n",
              "      <td>0.47</td>\n",
              "    </tr>\n",
              "    <tr>\n",
              "      <th>9</th>\n",
              "      <td>0.44</td>\n",
              "      <td>0.88</td>\n",
              "      <td>0.50</td>\n",
              "      <td>0.47</td>\n",
              "    </tr>\n",
              "  </tbody>\n",
              "</table>\n",
              "</div>\n",
              "    <div class=\"colab-df-buttons\">\n",
              "\n",
              "  <div class=\"colab-df-container\">\n",
              "    <button class=\"colab-df-convert\" onclick=\"convertToInteractive('df-df330ab3-6c6d-463e-963f-c23ea82eaf5d')\"\n",
              "            title=\"Convert this dataframe to an interactive table.\"\n",
              "            style=\"display:none;\">\n",
              "\n",
              "  <svg xmlns=\"http://www.w3.org/2000/svg\" height=\"24px\" viewBox=\"0 -960 960 960\">\n",
              "    <path d=\"M120-120v-720h720v720H120Zm60-500h600v-160H180v160Zm220 220h160v-160H400v160Zm0 220h160v-160H400v160ZM180-400h160v-160H180v160Zm440 0h160v-160H620v160ZM180-180h160v-160H180v160Zm440 0h160v-160H620v160Z\"/>\n",
              "  </svg>\n",
              "    </button>\n",
              "\n",
              "  <style>\n",
              "    .colab-df-container {\n",
              "      display:flex;\n",
              "      gap: 12px;\n",
              "    }\n",
              "\n",
              "    .colab-df-convert {\n",
              "      background-color: #E8F0FE;\n",
              "      border: none;\n",
              "      border-radius: 50%;\n",
              "      cursor: pointer;\n",
              "      display: none;\n",
              "      fill: #1967D2;\n",
              "      height: 32px;\n",
              "      padding: 0 0 0 0;\n",
              "      width: 32px;\n",
              "    }\n",
              "\n",
              "    .colab-df-convert:hover {\n",
              "      background-color: #E2EBFA;\n",
              "      box-shadow: 0px 1px 2px rgba(60, 64, 67, 0.3), 0px 1px 3px 1px rgba(60, 64, 67, 0.15);\n",
              "      fill: #174EA6;\n",
              "    }\n",
              "\n",
              "    .colab-df-buttons div {\n",
              "      margin-bottom: 4px;\n",
              "    }\n",
              "\n",
              "    [theme=dark] .colab-df-convert {\n",
              "      background-color: #3B4455;\n",
              "      fill: #D2E3FC;\n",
              "    }\n",
              "\n",
              "    [theme=dark] .colab-df-convert:hover {\n",
              "      background-color: #434B5C;\n",
              "      box-shadow: 0px 1px 3px 1px rgba(0, 0, 0, 0.15);\n",
              "      filter: drop-shadow(0px 1px 2px rgba(0, 0, 0, 0.3));\n",
              "      fill: #FFFFFF;\n",
              "    }\n",
              "  </style>\n",
              "\n",
              "    <script>\n",
              "      const buttonEl =\n",
              "        document.querySelector('#df-df330ab3-6c6d-463e-963f-c23ea82eaf5d button.colab-df-convert');\n",
              "      buttonEl.style.display =\n",
              "        google.colab.kernel.accessAllowed ? 'block' : 'none';\n",
              "\n",
              "      async function convertToInteractive(key) {\n",
              "        const element = document.querySelector('#df-df330ab3-6c6d-463e-963f-c23ea82eaf5d');\n",
              "        const dataTable =\n",
              "          await google.colab.kernel.invokeFunction('convertToInteractive',\n",
              "                                                    [key], {});\n",
              "        if (!dataTable) return;\n",
              "\n",
              "        const docLinkHtml = 'Like what you see? Visit the ' +\n",
              "          '<a target=\"_blank\" href=https://colab.research.google.com/notebooks/data_table.ipynb>data table notebook</a>'\n",
              "          + ' to learn more about interactive tables.';\n",
              "        element.innerHTML = '';\n",
              "        dataTable['output_type'] = 'display_data';\n",
              "        await google.colab.output.renderOutput(dataTable, element);\n",
              "        const docLink = document.createElement('div');\n",
              "        docLink.innerHTML = docLinkHtml;\n",
              "        element.appendChild(docLink);\n",
              "      }\n",
              "    </script>\n",
              "  </div>\n",
              "\n",
              "\n",
              "<div id=\"df-ec906a9e-0db3-490f-871a-73eea1084736\">\n",
              "  <button class=\"colab-df-quickchart\" onclick=\"quickchart('df-ec906a9e-0db3-490f-871a-73eea1084736')\"\n",
              "            title=\"Suggest charts.\"\n",
              "            style=\"display:none;\">\n",
              "\n",
              "<svg xmlns=\"http://www.w3.org/2000/svg\" height=\"24px\"viewBox=\"0 0 24 24\"\n",
              "     width=\"24px\">\n",
              "    <g>\n",
              "        <path d=\"M19 3H5c-1.1 0-2 .9-2 2v14c0 1.1.9 2 2 2h14c1.1 0 2-.9 2-2V5c0-1.1-.9-2-2-2zM9 17H7v-7h2v7zm4 0h-2V7h2v10zm4 0h-2v-4h2v4z\"/>\n",
              "    </g>\n",
              "</svg>\n",
              "  </button>\n",
              "\n",
              "<style>\n",
              "  .colab-df-quickchart {\n",
              "      --bg-color: #E8F0FE;\n",
              "      --fill-color: #1967D2;\n",
              "      --hover-bg-color: #E2EBFA;\n",
              "      --hover-fill-color: #174EA6;\n",
              "      --disabled-fill-color: #AAA;\n",
              "      --disabled-bg-color: #DDD;\n",
              "  }\n",
              "\n",
              "  [theme=dark] .colab-df-quickchart {\n",
              "      --bg-color: #3B4455;\n",
              "      --fill-color: #D2E3FC;\n",
              "      --hover-bg-color: #434B5C;\n",
              "      --hover-fill-color: #FFFFFF;\n",
              "      --disabled-bg-color: #3B4455;\n",
              "      --disabled-fill-color: #666;\n",
              "  }\n",
              "\n",
              "  .colab-df-quickchart {\n",
              "    background-color: var(--bg-color);\n",
              "    border: none;\n",
              "    border-radius: 50%;\n",
              "    cursor: pointer;\n",
              "    display: none;\n",
              "    fill: var(--fill-color);\n",
              "    height: 32px;\n",
              "    padding: 0;\n",
              "    width: 32px;\n",
              "  }\n",
              "\n",
              "  .colab-df-quickchart:hover {\n",
              "    background-color: var(--hover-bg-color);\n",
              "    box-shadow: 0 1px 2px rgba(60, 64, 67, 0.3), 0 1px 3px 1px rgba(60, 64, 67, 0.15);\n",
              "    fill: var(--button-hover-fill-color);\n",
              "  }\n",
              "\n",
              "  .colab-df-quickchart-complete:disabled,\n",
              "  .colab-df-quickchart-complete:disabled:hover {\n",
              "    background-color: var(--disabled-bg-color);\n",
              "    fill: var(--disabled-fill-color);\n",
              "    box-shadow: none;\n",
              "  }\n",
              "\n",
              "  .colab-df-spinner {\n",
              "    border: 2px solid var(--fill-color);\n",
              "    border-color: transparent;\n",
              "    border-bottom-color: var(--fill-color);\n",
              "    animation:\n",
              "      spin 1s steps(1) infinite;\n",
              "  }\n",
              "\n",
              "  @keyframes spin {\n",
              "    0% {\n",
              "      border-color: transparent;\n",
              "      border-bottom-color: var(--fill-color);\n",
              "      border-left-color: var(--fill-color);\n",
              "    }\n",
              "    20% {\n",
              "      border-color: transparent;\n",
              "      border-left-color: var(--fill-color);\n",
              "      border-top-color: var(--fill-color);\n",
              "    }\n",
              "    30% {\n",
              "      border-color: transparent;\n",
              "      border-left-color: var(--fill-color);\n",
              "      border-top-color: var(--fill-color);\n",
              "      border-right-color: var(--fill-color);\n",
              "    }\n",
              "    40% {\n",
              "      border-color: transparent;\n",
              "      border-right-color: var(--fill-color);\n",
              "      border-top-color: var(--fill-color);\n",
              "    }\n",
              "    60% {\n",
              "      border-color: transparent;\n",
              "      border-right-color: var(--fill-color);\n",
              "    }\n",
              "    80% {\n",
              "      border-color: transparent;\n",
              "      border-right-color: var(--fill-color);\n",
              "      border-bottom-color: var(--fill-color);\n",
              "    }\n",
              "    90% {\n",
              "      border-color: transparent;\n",
              "      border-bottom-color: var(--fill-color);\n",
              "    }\n",
              "  }\n",
              "</style>\n",
              "\n",
              "  <script>\n",
              "    async function quickchart(key) {\n",
              "      const quickchartButtonEl =\n",
              "        document.querySelector('#' + key + ' button');\n",
              "      quickchartButtonEl.disabled = true;  // To prevent multiple clicks.\n",
              "      quickchartButtonEl.classList.add('colab-df-spinner');\n",
              "      try {\n",
              "        const charts = await google.colab.kernel.invokeFunction(\n",
              "            'suggestCharts', [key], {});\n",
              "      } catch (error) {\n",
              "        console.error('Error during call to suggestCharts:', error);\n",
              "      }\n",
              "      quickchartButtonEl.classList.remove('colab-df-spinner');\n",
              "      quickchartButtonEl.classList.add('colab-df-quickchart-complete');\n",
              "    }\n",
              "    (() => {\n",
              "      let quickchartButtonEl =\n",
              "        document.querySelector('#df-ec906a9e-0db3-490f-871a-73eea1084736 button');\n",
              "      quickchartButtonEl.style.display =\n",
              "        google.colab.kernel.accessAllowed ? 'block' : 'none';\n",
              "    })();\n",
              "  </script>\n",
              "</div>\n",
              "    </div>\n",
              "  </div>\n"
            ]
          },
          "metadata": {},
          "execution_count": 283
        }
      ]
    }
  ]
}